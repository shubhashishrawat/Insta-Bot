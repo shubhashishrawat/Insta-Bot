{
 "cells": [
  {
   "cell_type": "markdown",
   "metadata": {},
   "source": [
    "#  Ques 1) Now your friend has followed a lot of different food bloggers, he needs to analyse the habits of these bloggers.\n",
    "\n",
    "    1) From the list of instagram handles you obtained when you searched ‘food’ in previous project. Open the first 10 handles and find the top 5 which have the highest number of followers                                                          \n",
    "    2)Now Find the number of posts these handles have done in the previous 3 days.                                                  \n",
    "    3)Depict this information using a suitable graph.\n"
   ]
  },
  {
   "cell_type": "markdown",
   "metadata": {},
   "source": [
    "# 1.1)  Code for top 5 handles having highest no of followers from top 10 handles on   searching the food"
   ]
  },
  {
   "cell_type": "code",
   "execution_count": 9,
   "metadata": {},
   "outputs": [
    {
     "name": "stdout",
     "output_type": "stream",
     "text": [
      "Top five handles with insta followers:\n",
      "foodnetwork    10302269\n",
      "foodgod    3634553\n",
      "foodandwine    3432755\n",
      "dilsefoodie    445950\n",
      "foodtalkindia    295381\n"
     ]
    }
   ],
   "source": [
    "# code for ques 1 1)\n",
    "from selenium import webdriver #The selenium.webdriver module provides all the WebDriver implementationsm,This allow us to control browser with our code\n",
    "from selenium.webdriver.support.ui import WebDriverWait# files for providing waits\n",
    "from selenium.webdriver.support import expected_conditions as EC# to provide the explicit wait (conditon)\n",
    "from selenium.webdriver.common.by import By\n",
    "from selenium.webdriver.common.action_chains import ActionChains#ActionChains are a way to automate low level interactions such as mouse movements, mouse button actions, key press\n",
    "from selenium.webdriver.common.keys import Keys# This Keys class provide keys in the keyboard\n",
    "import time# Importing the time \n",
    "from selenium.common.exceptions import NoSuchElementException# import nosuchelementexception module\n",
    "#function for login\n",
    "def handlenames(driver):\n",
    "    \n",
    "    # go to instagram login page using .get request\n",
    "    driver.get('https://www.instagram.com/')\n",
    "    # wait for some time for loading page\n",
    "    time.sleep(2)\n",
    "    # passing the username in the the text-box for username(This text-box has name->username so I'm using this to locate the text-box)\n",
    "    username=driver.find_element_by_name('username').send_keys('sample_username')# pass the user handle name or email or mobile no(for that i used .send_keys)\n",
    "    # passing the password in the the text-box for password(This text-box has name->password so I'm using this to locate the text-box)\n",
    "    password=driver.find_element_by_name('password').send_keys('sample_password')# pass the password(for that i used .send_keys)\n",
    "    # now need to click on login button to login and this is of type submit so used .submit to click over it\n",
    "    Login_button=driver.find_element_by_class_name('sqdOP.L3NKy.y3zKF').submit()#class name for login button was  \"sqdOP.L3NKy.y3zKF\" so i used that\n",
    "    # wait for some time to completely load the page here i used implicit wait I have given Implicit Wait as 5 seconds, #\n",
    "    #which implies the maximum wait time is 5 seconds for the particular element to load or to arrive at the output\n",
    "    # means agr phle output aagya tho wait nhi krega yeh\n",
    "    \n",
    "    driver.implicitly_wait(5)\n",
    "    # as You login their comes a pop up saying whether you want to save the details or not Here we are \n",
    "    # handling this by clicking on not now button\n",
    "    try:# if this pop up comes click on not now\n",
    "        save_login_info=driver.find_element_by_xpath('//div[@class=\"cmbtv\"]/button').click()\n",
    "    except NoSuchElementException:# if no such pop-up open then pass (I'm doing this because some time this pop up doesnt came)\n",
    "        pass\n",
    "    # wait for some time to load the page \n",
    "    driver.implicitly_wait(10)\n",
    "    # ek notification aa rhi hai as you login :-\"Turn on Notifications Know right away when people follow you or like and comment on your photos.\"\n",
    "    # thi Extra_notification_handle is to handle that extra notification\n",
    "    Extra_notification_handle=driver.find_element_by_class_name('aOOlW.HoLwm ')#aOOlW   HoLwm is the class name for cancle button of notification \n",
    "    Extra_notification_handle.click()# bacuse the cancle button is not of submit type so I had to click\n",
    "    time.sleep(2)# wait for 2 sec\n",
    "    # pass the word \"food\" in the search box to print the insatgrams handle\n",
    "    # to locate the search box using the class name of the search box having the class name \"XTCLo.x3qfX\"\n",
    "    search_bar=driver.find_element_by_class_name('XTCLo.x3qfX')\n",
    "    # passing the word \"food\" in the search box usnig the .send_keys fun\n",
    "    search_bar.send_keys('food')\n",
    "    # wait for some time so that all the handles can be loaded\n",
    "    time.sleep(2)\n",
    "    # to get the names of driver \n",
    "    # locate the names of insta handle having the class name \"Ap253\"\n",
    "    names=driver.find_elements_by_class_name('Ap253')\n",
    "    # not printing the hastags \n",
    "    list_of_foodblogger=[]\n",
    "    for i in names:\n",
    "        if '#' not in i.text:\n",
    "            list_of_foodblogger.append(i.text)\n",
    "    return list_of_foodblogger\n",
    "\n",
    "def no_of_followers(instahandle):\n",
    "    # send get request to the foodbloggers:\n",
    "    wait = WebDriverWait(driver,10)\n",
    "    foodbloggerurl='https://www.instagram.com/'+ instahandle\n",
    "    driver.get(foodbloggerurl)\n",
    "    # get the no of followers:\n",
    "    follower=driver.find_element_by_xpath('//ul[@class=\"k9GMp \"]/li[2]/a')\n",
    "    no_of_followers_Count=follower.find_element_by_class_name(\"g47SY \").get_attribute('title')\n",
    "    return no_of_followers_Count\n",
    "\n",
    "\n",
    "# using geckodriver(FireFox web driver name) to remote the window please use the path for geckodriver as per your system\n",
    "# here geckodriver is within anaconda so I write it straight forward\n",
    "driver=webdriver.Firefox(executable_path='geckodriver')\n",
    "# calling login function\n",
    "a=handlenames(driver)\n",
    "Count=[]\n",
    "for i in range(10):\n",
    "    Count.append(no_of_followers(a[i]))\n",
    "Followerss=[]\n",
    "for i in Count:\n",
    "    Followerss.append(int(i.replace(',', '')))\n",
    "import pandas as pd\n",
    "df=pd.DataFrame(list(zip(a[0:10],Followerss)),columns=[\"Name\",\"Followers\"])\n",
    "df=df.sort_values(by=[\"Followers\"],ascending=False)\n",
    "final_df=df[0:5].reset_index(drop=True)\n",
    "print(\"Top five handles with insta followers:\")\n",
    "[print(*row, sep='    ') for row in final_df.values.tolist()];\n",
    "\n",
    "\n",
    "# ****making the list of top 5 handles and their followers to use in next part of the problem***\n",
    "top_5_handles=[]\n",
    "top_5_handles_followers=[]\n",
    "for i in final_df['Name']:\n",
    "    top_5_handles.append(i)\n",
    "for i in final_df['Followers']:\n",
    "    top_5_handles_followers.append(i)"
   ]
  },
  {
   "cell_type": "markdown",
   "metadata": {},
   "source": [
    "# Printing the top_5_handles obtain and their followers which is going to used in further problems"
   ]
  },
  {
   "cell_type": "code",
   "execution_count": 10,
   "metadata": {
    "scrolled": false
   },
   "outputs": [
    {
     "name": "stdout",
     "output_type": "stream",
     "text": [
      "['foodnetwork', 'foodgod', 'foodandwine', 'dilsefoodie', 'foodtalkindia']\n",
      "[10302269, 3634553, 3432755, 445950, 295381]\n"
     ]
    }
   ],
   "source": [
    "# list of top 5 instahandles\n",
    "# to be used in the next part of the problem\n",
    "print(top_5_handles)\n",
    "print(top_5_handles_followers)"
   ]
  },
  {
   "cell_type": "markdown",
   "metadata": {},
   "source": [
    "# 1.2) Code for no of post done by these handles in previous 3 days"
   ]
  },
  {
   "cell_type": "code",
   "execution_count": 12,
   "metadata": {},
   "outputs": [
    {
     "name": "stdout",
     "output_type": "stream",
     "text": [
      "foodnetwork 33\n",
      "foodgod 0\n",
      "foodandwine 9\n",
      "dilsefoodie 4\n",
      "foodtalkindia 5\n"
     ]
    }
   ],
   "source": [
    "# code  for:- 2)Now Find the number of posts these handles have done in the previous 3 days.   \n",
    "\n",
    "from selenium import webdriver #The selenium.webdriver module provides all the WebDriver implementationsm,This allow us to control browser with our code\n",
    "from selenium.webdriver.support.ui import WebDriverWait# files for providing waits\n",
    "from selenium.webdriver.support import expected_conditions as EC# to provide the explicit wait (conditon)\n",
    "from selenium.webdriver.common.by import By\n",
    "from selenium.webdriver.common.action_chains import ActionChains#ActionChains are a way to automate low level interactions such as mouse movements, mouse button actions, key press\n",
    "from selenium.webdriver.common.keys import Keys# This Keys class provide keys in the keyboard\n",
    "import time# Importing the time \n",
    "from selenium.common.exceptions import NoSuchElementException# import nosuchelementexception module\n",
    "from datetime import datetime\n",
    "\n",
    "def Count_post(handle_name):\n",
    "    # send get request to the instagram handle of the dilsefoodie using the handlename \n",
    "    wait = WebDriverWait(driver,10)\n",
    "    i='https://www.instagram.com/'+ handle_name\n",
    "    driver.get(i)\n",
    "    # wait for some time to load the page\n",
    "    time.sleep(3)\n",
    "    # innitilize actionChain to automate low level interactions such as mouse movements, mouse button actions, key press,\n",
    "    actionChain=webdriver.ActionChains(driver)#action chain object\n",
    "    # scroll the page using the actionChain for uploading the posts \n",
    "    for i in range(200):\n",
    "        actionChain.key_down(Keys.SPACE).key_up(Keys.SPACE).perform()# scrollung the page of dilsefoodie\n",
    "    # send the control to the top of the page\n",
    "    driver.find_element_by_tag_name('body').send_keys(Keys.CONTROL + Keys.HOME)\n",
    "    #made a list to store the href of every post the href are in a tag of div having class = \"v1Nh3 kIKUG  _bz0w\"\n",
    "    time.sleep(3)\n",
    "    href = []\n",
    "    for i in driver.find_elements_by_xpath('//div[@class=\"v1Nh3 kIKUG  _bz0w\"]/a'):\n",
    "        # appending the url of post in the list href\n",
    "        href.append(i.get_attribute('href'))\n",
    "        \n",
    "    # initate the count with 0\n",
    "    count=0\n",
    "    \n",
    "    for i in href:\n",
    "        \n",
    "        #itrate over the list one by one and take the info of liked or not of the post\n",
    "        driver.get(i)\n",
    "        # locate the date information usnig the div class EtaWk\n",
    "        date_info_ = driver.find_element_by_css_selector('div.EtaWk div a')\n",
    "        date_info=driver.find_element_by_css_selector('time').text\n",
    "        # if the date info has week in it then break (because we need post of previous 3 days only)\n",
    "        if 'w' in date_info:# w is for week You need not to handle the year as before the year their will be weeks and you have breaked the loop as soon as weeks come\n",
    "            break\n",
    "        else:# if their is hours (h) and days(d) in date information\n",
    "            # if info crosses 3d then break else inc the count\n",
    "            if date_info == '4d' or date_info=='5d' or date_info=='6d':\n",
    "                break\n",
    "            else:\n",
    "                count+=1\n",
    "       \n",
    "        \n",
    "    \n",
    "    # return the obtained count    \n",
    "        \n",
    "    return count\n",
    "\n",
    "def login(driver):\n",
    "    \n",
    "    # go to instagram login page using .get request\n",
    "    driver.get('https://www.instagram.com/')\n",
    "    # wait for some time for loading page\n",
    "    time.sleep(2)\n",
    "    # passing the username in the the text-box for username(This text-box has name->username so I'm using this to locate the text-box)\n",
    "    username=driver.find_element_by_name('username').send_keys('sample_username')# pass the user handle name or email or mobile no(for that i used .send_keys)\n",
    "    # passing the password in the the text-box for password(This text-box has name->password so I'm using this to locate the text-box)\n",
    "    password=driver.find_element_by_name('password').send_keys('sample_password')# pass the password(for that i used .send_keys)\n",
    "    # now need to click on login button to login and this is of type submit so used .submit to click over it\n",
    "    Login_button=driver.find_element_by_class_name('sqdOP.L3NKy.y3zKF').submit()#class name for login button was  \"sqdOP.L3NKy.y3zKF\" so i used that\n",
    "    # wait for some time to completely load the page here i used implicit wait I have given Implicit Wait as 5 seconds, #\n",
    "    #which implies the maximum wait time is 5 seconds for the particular element to load or to arrive at the output\n",
    "    # means agr phle output aagya tho wait nhi krega yeh\n",
    "    \n",
    "    driver.implicitly_wait(5)\n",
    "    # as You login their comes a pop up saying whether you want to save the details or not Here we are \n",
    "    # handling this by clicking on not now button\n",
    "    try:# if this pop up comes click on not now\n",
    "        save_login_info=driver.find_element_by_xpath('//div[@class=\"cmbtv\"]/button').click()\n",
    "    except NoSuchElementException:# if no such pop-up open then pass (I'm doing this because some time this pop up doesnt came)\n",
    "        pass\n",
    "    # wait for some time to load the page \n",
    "    driver.implicitly_wait(10)\n",
    "    # ek notification aa rhi hai as you login :-\"Turn on Notifications Know right away when people follow you or like and comment on your photos.\"\n",
    "    # thi Extra_notification_handle is to handle that extra notification\n",
    "    Extra_notification_handle=driver.find_element_by_class_name('aOOlW.HoLwm ')#aOOlW   HoLwm is the class name for cancle button of notification \n",
    "    Extra_notification_handle.click()# bacuse the cancle button is not of submit type so I had to click\n",
    "    time.sleep(2)\n",
    "            \n",
    "\n",
    "\n",
    "# using geckodriver(FireFox web driver name) to remote the window please use the path for geckodriver as per your system\n",
    "# here geckodriver is within anaconda so I write it straight forward\n",
    "driver=webdriver.Firefox(executable_path='geckodriver')\n",
    "# calling login function\n",
    "login(driver)\n",
    "# making  a list of count of post in previous 3 days\n",
    "post_count=[]\n",
    "# runnig the code of post_count for the 5 handles\n",
    "for i in top_5_handles:\n",
    "    \n",
    "    a=(Count_post(i))\n",
    "    # append the ans in the list\n",
    "    post_count.append(a)\n",
    "# printing the ans\n",
    "for i in range(len(top_5_handles)):\n",
    "    print(top_5_handles[i],post_count[i])"
   ]
  },
  {
   "cell_type": "markdown",
   "metadata": {},
   "source": [
    "# 1.3)Depict this information using a suitable graph.:"
   ]
  },
  {
   "cell_type": "code",
   "execution_count": 67,
   "metadata": {},
   "outputs": [
    {
     "data": {
      "image/png": "[encoded data removed]",
      "text/plain": [
       "<Figure size 432x288 with 1 Axes>"
      ]
     },
     "metadata": {
      "needs_background": "light"
     },
     "output_type": "display_data"
    },
    {
     "data": {
      "image/png": "[encoded data removed]",
      "text/plain": [
       "<Figure size 432x288 with 1 Axes>"
      ]
     },
     "metadata": {
      "needs_background": "light"
     },
     "output_type": "display_data"
    }
   ],
   "source": [
    "# 3)Depict this information using a suitable graph.:\n",
    "\n",
    "\n",
    "\n",
    "\n",
    "# Firstly a bar graph is made for blogeers vs no of followers followed by a bubble graph\n",
    "\n",
    "\n",
    "# top_5_handles = foodblogger handle name \n",
    "# post_count= no of post in prevoius 3 days \n",
    "# top_5_handles_followers=no of followers of these bloggers\n",
    "\n",
    "# bar graph\n",
    "import matplotlib.pyplot as plt # python library form plotting graphs\n",
    "# plotting the bar graph\n",
    "plt.bar(top_5_handles,top_5_handles_followers, color = 'b',edgecolor='black',width=0.5)\n",
    "# providing the x-label\n",
    "plt.xlabel('Top 5 Handles Names')\n",
    "# y-label\n",
    "plt.ylabel('No of followers')\n",
    "# title of the graph\n",
    "plt.title('Names vs Followers')\n",
    "# priting the value on the top of the bars using enumerate()...enumerate() method adds a counter to an iterable and returns it in a form of enumerate object. \n",
    "for index, value in enumerate(top_5_handles_followers):\n",
    "    \n",
    "    plt.text( index, value,str(value),ha='center')\n",
    "# show the graph\n",
    "plt.show()\n",
    "\n",
    "\n",
    "# here another graph bubble graph is used in which name of foodblogger is on x-axis no of followers on y and size of bubble shows the \n",
    "# no of post in previous 3 days:\n",
    "import matplotlib.pyplot as plt# python library form plotting graphs\n",
    "\n",
    "plt.scatter(top_5_handles,top_5_handles_followers,color='green',s=post_count,label=\"Scale\")\n",
    "# x and y label for the graph\n",
    "plt.xlabel('FoodBloggers')\n",
    "plt.ylabel('Followers')\n",
    "\n",
    "# title of the graph\n",
    "plt.title('Bloggers vs Followers',fontweight=\"bold\")\n",
    "\n",
    "plt.show()\n",
    "\n",
    "# here bubble will show the no of post in previous three days\n",
    "# please note :- ***their is not any post for foodgod in previous 3 days so no bubble for foodgod***"
   ]
  },
  {
   "cell_type": "markdown",
   "metadata": {},
   "source": [
    "# Ques 4: Your friend also needs a list of hashtags that he should use in his posts.\n",
    "\n",
    "    1) Open the 5 handles you obtained in the last question, and scrape the content of the first 10 posts of each handle.                                                                                                                 \n",
    "    2) Prepare a list of all words used in all the scraped posts and calculate the frequency of each word.                                                           \n",
    "    3) Create a csv file with two columns : the word and its frequency                                                           \n",
    "    4) Now, find the hashtags that were most popular among these bloggers                                                           \n",
    "    5) Plot a Pie Chart of the top 5 hashtags obtained and the number of times they were used by these bloggers in the scraped posts.\n",
    " "
   ]
  },
  {
   "cell_type": "markdown",
   "metadata": {},
   "source": [
    "# 4.1) Code for scrape the content of top 10 post of the 5 handles"
   ]
  },
  {
   "cell_type": "code",
   "execution_count": 62,
   "metadata": {
    "scrolled": false
   },
   "outputs": [
    {
     "name": "stdout",
     "output_type": "stream",
     "text": [
      "content of blogger foodnetwork is: [\"Recipe of the Day: @giadadelaureniis' Berry Strata 🍓Save the recipe on your @foodnetworkkitchen app today! #WeCook\", \"Ravioli with Ricotta and Mushrooms (with @chefanneburrell)\\n\\nChef Anne whips up her famous homemade pasta dough for her Ravioli with Ricotta and Mushrooms!\\n\\nGet a sneak peek at Anne's Boot Camp demo before an all-new #WorstCooks Celebrity Edition > tonight at 9|8c.\\n\\nSave the recipe in your @FoodNetworkKitchen app!\", \"@BobbyFlay's 5🌟 Bacon Burgers\\n\\nThese juicy burgers are topped with a generous layer of rich, creamy pimiento cheese and plenty of crispy bacon 🤤\\n\\nCatch @bobbyflay on a new episode of #BeatBobbyFlay, tonight @ 10|9c!\\n\\nSave the recipe on the @FoodNetworkKitchen app.\", \"Class of the Day: Carrot Cake Scones with Cream Cheese Glaze 🥕 All the flavors of carrot cake inflused into a scone? Don't mind if we do! Pastry Chef @misschefsmileypants shows you make warm, buttery scones and a tangy cream cheese glaze in her class on the @FoodNetworkKitchen app! #WeCook\", 'Sprinkles Cake (with @mollyyeh) ✨\\n\\nA slice of this cake will make any birthday 1000x better!\\n\\n#GirlMeetsFarm > Sundays @ 11a|10c\\n\\nSave the recipe on the @foodnetworkkitchen app.', \"Apple Brown Butter Blondies (with @bakedbydan)\\n\\nBlondies are SERIOUS business in @bakedbydan's house! And these Apple Brown Butter Blondies are no exception 😍#WeCook\\n\\n#TheKitchen > Saturdays at 11a|10c.\\nGet Dan's recipe on the @FoodNetworkKitchen app!\", \"Shrimp Ravioli with Tomato Sauce (with @TylerFlorence)\\n\\nTyler serves up his ultimate tips for homemade pasta sheets and turns them into delicious, savory shrimp ravioli!\\n\\nGet a sneak peek at Tyler's Boot Camp demo before an all-new #WorstCooks Celebrity Edition > Sunday at 9|8c\\n\\nSave the recipe in your @FoodNetworkKitchen app!\", \"Serve this easy creamy whipped ricotta up with some colorful veg and crispy garlic toasts and you have one HECK of a snack plate on your hands! You can take @sparklessz's full class today on the @FoodNetworkKitchen app. #WeCook\", \"Say goodbye to overcooked (or undercooked!) bacon! @bobbyflay says THIS is the most-consistent way to make it 🥓\\n\\nWatch Bobby's full Lumberjack Brunch class on the @foodnetworkkitchen app for more tips.\", \"@KatieLeeKitchen's Lasagna Roll-Ups 🧀🧀\\n\\nMake a double batch of @KatieLeeKitchen's Veggie Lasagna Roll-Ups, one to bake tonight and one to freeze for later! They're so cheesy, you're gonna love 'em. ✨ Watch the newest episode of #WhatWouldKatieEat: Home Edition, and save the recipe on the @FoodNetworkKitchen app ✨\"]\n",
      "\n",
      "content of blogger foodgod is: ['Call me lazy.. but how many noodles can this machine make per minute?? 🍜\\n\\u2063\\nby jdjdhcjxnmsnd626 (tiktok)\\u2063', 'Missing the Cannes Film Festival!! What events are you missing out on??', 'Should this be a dark, milk, or white chocolate pool??\\u2063\\n\\u2063\\n📹@mrhalawa', 'I built my own gym w/ @vodkabeluga .. who wants one? ad\\n\\nwatch till ending... a surprise🚲🌙', 'Comment 🍓 for the UK 🇬🇧 to get better quickly!! Can’t wait to visit soon!', 'HOTTEST trend while quarantined... Dalgona coffee!!! \\u2063\\u2063\\n\\u2063\\u2063\\nRecipe: \\u2063\\n2 tbsp of instant coffee\\u2063\\u2063\\n2 tbsp of sugar\\u2063\\u2063\\n2 tbsp of hot water\\u2063\\u2063\\nWhisk if all together until you can creat stiff peaks. Serve over ice and milk of your choosing \\u2063\\n\\u2063\\n\\u2063\\n📹 @four_cups @edimdoma.ru \\u2063\\u2063\\n🎵 Sweater Weather by @thenbhd', 'Just last week 😢 @mylesprime112 @fatjoe @therealnoreaga', 'We all will be eating cake like this soon!! We will also get through this together \\u2063\\n\\u2063\\n📹 @fegourmet', 'UPDATE: STAY HOME!!!!! PLEASE SUPPORT your local businesses and restaurants, they need your support NOW!!!', 'Which one would you eat first??']\n",
      "\n",
      "content of blogger foodandwine is: [\"For this kubaneh, a Yemenite bread traditionally baked overnight for eating on the Sabbath, 2020 #FWBNC @camillecogswell slow-bakes coiled dough until it's caramelized, giving it a richly flavored, golden-brown interior, then tops it with brown sugar ricotta and berries. Tap the link in our bio for her recipe, and to meet the rest of this year's BNC class. 📷: @taradonnephoto\", \"2020 #FWBNC @chefniven’s kale and corn pakoras are filled with fresh corn, peppers, and garam masala. A mix of chickpea and rice flours helps them fry up light, lacy, and extra crunchy. Tap the link in our bio for his recipe, and to meet the rest of this year's #FWBNC class. 📷: @cedricangeles\", \"This beaut of a burger is a two-hander, topped with Japanese-spiced chili, tomatoes, and shredded iceberg lettuce. Recipe is linked in our bio, and tap through our stories for everything else we're planning to cook in June. 📷: @protazio\", \"With its creamy, vaguely nutty flavor, oat milk has emerged as one of the most popular plant-based milks. But if you've gotten into the habit of pouring oat milk into your coffee, over your granola, or using it in baking, it can be shocking how quickly a full carton turns into an empty one. So why not try your hand at making it yourself? It's so fast to make that you can whip up a batch before your morning coffee. Tap the link in our bio for Deputy Digital Editor @adinasteiman's how-to. 📷: @antonisachilleos\", \"What's for dinner tonight? You can't go wrong with pasta tossed with plenty of chopped clams, garlic, and tomato sauce—here, a dose of anchovies boost the savory taste of the clams, herby vermouth stands in for dry white wine (although you could use either), and a touch of butter tossed in at the end unites the pasta and sauce in a truly magical way. Recipe link in our bio! 📷: @antonisachilleos\", 'Bacon makes everything better! Tap the link in our bio for the ultimate proof: this potato, bacon and cheddar tart. 📷: @protazio', \"Black cherry–chocolate ice cream sandwiches > all other ice cream sandwiches! Tap the link in our bio for Culinary Director at Large @justinchapple's recipe. 📷: @gregdupree\", \"@vickybennison's gorgeous parsley egg noodles featured in our February issue are now @beardfoundation Book Award winners! Tap the links in our bio for the full list of 2020 James Beard Foundation Media Award winners, and for the egg noodle how-to. 📷: @protazio\", \"Never underestimate the power of a pre-fry soak! It's the secret to these ultra crispy bbq-spiced potato chips, which are so much easier to make at home than you might have imagined. Recipe link in our bio! 📷: @protazio\", \"2020 #FWBNC @eunjoful's pickled vegetable kimbap recipe combines pickled peppers and daikon, seasoned rice, and nori for a quick, fresh snack. Tap the link in our bio for her recipe and to meet the rest of this year's class. 📷: @taradonnephoto\"]\n",
      "\n",
      "content of blogger dilsefoodie is: [\"My Dad's Favourite Recipe\\n\\nJeera Aloo Super Chatpata Spicy And Very Easy To Cook 😬. #dilsefoodie #JeeraAloo\", 'Goan Style Chicken Curry\\n\\nYe Wali Recipe Try Karo If You Like Coconut Flavour And Spicy Food\\n#dilsefoodie', 'Chicken Korma Recipe\\n\\nAb Banao Ghar Pe Chicken Korma\\n#dilsefoodie #chickenkorma', 'Are You Also Missing Street Food ?\\n\\nTag Your Foodie Friends And Tell Me After Which Street Food You Are Missing🙄. #dilsefoodie #food #guitar', 'French Toast Recipe\\n\\nSimple And Best Breakfast\\n#dilsefoodie #food #frenchtoast', 'Ye Restaurant Sirf 3hours Khulta Hai\\n\\nSpecial Mutton Thali At Nana Hotel NH 16, Odisha\\n#dilsefoodie #Food #odisha', 'Old Delhi Style Mutton Korma Recipe\\n\\nEID Special Recipe Mutton Korma\\nRecipe Credit @bharatzkitchen\\n#dilsefoodie #food #muttonkorma #eidmubarak', \"EID Mubarak To All My Friends\\nSpecial Mutton Korma Recipe Coming Tomorrow Evening.\\nTag Mutton Korma Fans Who All Are Missing Old Delhi Style Mutton Korma 😁. And Tell Me Also Which Mutton Korma Is Good\\nKarim's Or Al Jawahar\\n#dilsefoodie #MuttonKorma\", 'Bamboo Biryani At Jungle View Restaurant, Odisha\\n\\n#dilsefoodie #bamboo #biryani #odisha', 'VIRTUAL IFTAAR E MEHFIL !!\\n\\nZindagi ki thi tez raftaar\\nJaate the doston ke ghar for Iftaar\\nAaj karenge hum iftaar virtual\\nPehle wali Eid manayenge Aaj nahi to Kal !\\n\\nDo you miss going to your friends and family ‘s homes for Iftaari!? Well have a Virtual Iftaar Mehfil like we did !\\nUnited in Food and Festival ! Covid 19 has us locked down in our homes but cannot take away the spirit of celebration of festivals !!\\nWill you join us all in our Virtual Iftaar E Mehfil !?\\nIn video are\\n@dilsefoodie\\n@luckyladyblossom\\n@he_cook_she_eat\\n@geetasfoodielife\\n@chatpati_shikha\\n@chefrehman\\n@foodconnectindia\\n@foodjournal_mumbai\\n@mistertikku\\n.\\nConcept by @luckyladyblossom\\nVideo editing and caption by @geetasfoodielife\\n\\n#dilsefoodie #virtualiftaar']\n",
      "\n"
     ]
    },
    {
     "name": "stdout",
     "output_type": "stream",
     "text": [
      "content of blogger foodtalkindia is: ['This punch packing, boozy bitter is a 3 ingredient cocktail like none other. Here are 3 interesting facts about a Negroni.\\n.\\n- It was created upon a request for an ‘Americano with a gin’ by Count Camillo Negroni (Italian nobleman) in 1919 in Florence\\n- Has been voted as the second best cocktail four times in a row according to the Drinks International.\\n- Negronis are always far better when stirred with the finger', 'Mangoes, Avocados, Pineapple, watermelon and many more.\\n@bestfruitcompany have it all. A home grown brand that believes in handpicked fruit.\\n\\nNo need to worry about stepping out and exposing yourself to taste the goodness of best fruit 🥭🥑🍉🍍 .\\n.\\n\\nFor contactless safe delivery whatsapp us on +919818817754', 'Tired of cooking at home? @unitedcoffeehouse has opened its kitchens and is now available through take-away or home deliveries.\\nTaking all possible hygiene measures to give you the same experience you have savoured since decades.\\nFor Deliveries & Take Out Call: \\u202a9650596114\\u202c / \\u202a01123416075\\u202c / \\u202a01123411697\\u202c\\nE-15, Inner Circle Connaught Place', 'Ice game strong\\n\\n. .\\n\\n@isaynegroni on how to make crystal clear ice blocks at home', 'From the flavourful biryani to the melt in the mouth kakori kebabs to the heavenly butter chicken and so much more! .\\n.\\n.\\n@koylakebab is now delivering all the deliciousness from their restaurant to your door. Taking all precautions and ensuring nothing but the safest deliveries! .\\n.\\nDefence Colony: 011-41627744\\nPVR Saket: 011-46581555', \"If you are a restaurant/ food delivery looking to reopen operations in this new phase of the restrictions lifting, here is our guide on how to stay safe and keep customers safe.\\n\\nStep 1. Deep cleaning and sanitisation: 🧼\\n.\\nNow easily doable with services like virus busters\\nStep 2. Setting up hygiene & safety protocols: 🌡️\\n.\\nMandatory temperature checks everyday; sanitiser application, 20 second hand wash requirement at regular intervals for staff and visitors.\\n\\nFor delivery boys set a pick-up counter with a sanitiser dispenser to create a contactless experience with your kitchen staff.\\n\\nStep 3: Menu planning: 📋\\n.\\nPlan a limited menu with start dishes that people are missing from your restaurant and focus on delivering great food and great quality.\\n\\nStep 4: Minimum hands on board: ✋\\n.\\nKeep your staff strength to the bare minimum required and ensure everyone in the kitchen is following strict hygiene protocol both in the kitchen and at home.\\n\\nAn ideal team of 2-3 is what we suggest for now.\\n\\nStep 5: Communicate with your local customers 🗣️\\n.\\nReach out to your customers, send them the menu catalogue and let them know their favourite restaurant is open for delivery/ takeout.\\n\\nPs. Add a note with the chef's and delivery boys body temperature along with the order to ensure 100% safety for customers. 📝\", 'Ooops we did it again! 🙈\\n.\\nWhether you are a first time baker or a pro we would like to believe everyone at some point of time in their life has mistakenly used salt instead of icing sugar. 🤷\\u200d♀️\\n.\\nShare your hilarious quarantine baking disasters in the comments below to claim yourself as the champion of most-failed baking attempts. 💪', 'Gooey chocolate fudge/brigadeiro\\n\\nIn the kitchen with @cheftejasvichandela ( @allthingschocolates )\\n\\nA delicious indulgent that’s super easy, here goes the recipe for 3 ingredient chocolate fudge!\\n\\n@cheftejasvichandela has used her favourite @allthingschocolates 64% malabar dark chef’s chocolate and 33% blended milk chocolate.\\n\\nIngredients -150ml condensed milk\\n-450g (half 64% Malabar dark and half 33% milk Chef’s chocolate from @allthingschocolates )\\n-100g unsalted butter\\n-big pinch of salt.\\n\\nSteps\\n1. In a saucepan add butter and chocolate chunks and condensed milk.\\n2. Make sure the heat is on low to medium and start mixing the ingredients put in the saucepan.\\n3. Mix it constantly so it does not get stuck to the pan.\\n4. Add a pinch of salt and continue mixing.\\n5. When it starts to bubble up, switch off the heat.\\n6. Line the tin with a little bit of oil or butter.\\n7. Pour the fudge in.\\n8. Let it sit in the fridge for 2-3 hours.\\n9. Then cut it up in blocks or roll it into truffle balls and enjoy!', 'Coorg Style Pepper Mutton\\n\\nIn the kitchen with @pigout_coorgkitchen (Dry dish)\\nServes 4\\n\\nIngredients:\\n\\nMutton - 1/2 kg (curry cut, with bone)\\nOnion - 2 medium size (sliced)\\nGreen chilli - 2 (slit in half)\\nBlack pepper - 2 tbsp Coarse grind\\nGinger- Garlic paste - 2 tbsp\\nHaldi - 1 heaped tsp\\nSalt - To taste\\nOil for frying\\n\\nKachampulli (Coorg black vinegar) - 1 tbsp\\nOR\\nRegular cooking vinegar - 1 tbsp and Tamarind paste - 1 tbsp\\n\\nMethod: ⁃ Pressure cook mutton in 3 cups water, salt and haldi. Till 3/4th cooked. ⁃ Heat oil in a pan, add onions and fry till they being to brown. ⁃ Add ginger garlic paste, green chilli and fry. ⁃ Once masala is cooked. Add mutton, green and pepper. And fry on a medium flame. ⁃ Once the oil begins to separate from the meat, add remaining stock (water from the pressure cooker) and allow the meat to fully cook in the liquid. ⁃ Once meat is soft and cooked. Add kachampulli or tamarind and vinegar. ⁃ Fry the meat on a high flame for 2-3minutes, let all the liquid dry up. Serve with a squeeze of lime.\\n\\nTip : When using Kachampulli vinegar, it’s recommended to give it at least 24hrs before serving, so that the vinegar has time to settle and bring out its full flavour.']\n",
      "\n"
     ]
    }
   ],
   "source": [
    "# code for 1)  Open the 5 handles you obtained in the last question, and scrape the content of the first 10 posts of each handle.\n",
    "\n",
    "from selenium import webdriver #The selenium.webdriver module provides all the WebDriver implementationsm,This allow us to control browser with our code\n",
    "from selenium.webdriver.support.ui import WebDriverWait# files for providing waits\n",
    "from selenium.webdriver.support import expected_conditions as EC# to provide the explicit wait (conditon)\n",
    "from selenium.webdriver.common.by import By\n",
    "from selenium.webdriver.common.action_chains import ActionChains#ActionChains are a way to automate low level interactions such as mouse movements, mouse button actions, key press\n",
    "from selenium.webdriver.common.keys import Keys# This Keys class provide keys in the keyboard\n",
    "import time# Importing the time \n",
    "from selenium.common.exceptions import NoSuchElementException# import nosuchelementexception module\n",
    "from datetime import datetime\n",
    "\n",
    "def Content_post(handle_name):\n",
    "    # h=gi to the instagram handle of the dilsefoodie using the handlename \n",
    "    wait = WebDriverWait(driver,10)\n",
    "    i='https://www.instagram.com/'+ handle_name\n",
    "    driver.get(i)\n",
    "    # wait for some time to load the page\n",
    "    time.sleep(3)\n",
    "    # innitilize actionChain to automate low level interactions such as mouse movements, mouse button actions, key press,\n",
    "    actionChain=webdriver.ActionChains(driver)#action chain object\n",
    "    # scroll the page using the actionChain for uploading the posts \n",
    "    for i in range(100):\n",
    "        actionChain.key_down(Keys.SPACE).key_up(Keys.SPACE).perform()# scrollung the page of dilsefoodie\n",
    "    # take the control on the top of the page so that can start from 1st post\n",
    "    driver.find_element_by_tag_name('body').send_keys(Keys.CONTROL + Keys.HOME)\n",
    "    time.sleep(3)\n",
    "    #made a list to store the href of every post the href are in a tag of div having class = \"v1Nh3 kIKUG  _bz0w\"\n",
    "    href = []\n",
    "    for i in driver.find_elements_by_xpath('//div[@class=\"v1Nh3 kIKUG  _bz0w\"]/a'):\n",
    "        # appending the url of post in the list href\n",
    "        href.append(i.get_attribute('href'))\n",
    "        \n",
    "    # make a list for appending the content\n",
    "    content=[]\n",
    "    \n",
    "    for i in range(10):\n",
    "        try: # in case their is content with post\n",
    "            #itrate over the list one by one and take the info of liked or not of the post\n",
    "            driver.get(href[i])\n",
    "            # locate the content info of the top 10 post one by one and append it in the list\n",
    "            content_info_ = driver.find_element_by_xpath('//div[@class=\"C7I1f X7jCj\"]/div[2]/span').text\n",
    "\n",
    "            content.append(content_info_)\n",
    "        # if their is no content within the post\n",
    "        except NoSuchElementException:\n",
    "            pass\n",
    "       \n",
    "        \n",
    "    \n",
    "        \n",
    "    # return the content list\n",
    "    return content\n",
    "\n",
    "def login(driver):\n",
    "    \n",
    "    # go to instagram login page using .get request\n",
    "    driver.get('https://www.instagram.com/')\n",
    "    # wait for some time for loading page\n",
    "    time.sleep(2)\n",
    "    # passing the username in the the text-box for username(This text-box has name->username so I'm using this to locate the text-box)\n",
    "    username=driver.find_element_by_name('username').send_keys('sample_username')# pass the user handle name or email or mobile no(for that i used .send_keys)\n",
    "    # passing the password in the the text-box for password(This text-box has name->password so I'm using this to locate the text-box)\n",
    "    password=driver.find_element_by_name('password').send_keys('sample_password')# pass the password(for that i used .send_keys)\n",
    "    # now need to click on login button to login and this is of type submit so used .submit to click over it\n",
    "    Login_button=driver.find_element_by_class_name('sqdOP.L3NKy.y3zKF').submit()#class name for login button was  \"sqdOP.L3NKy.y3zKF\" so i used that\n",
    "    # wait for some time to completely load the page here i used implicit wait I have given Implicit Wait as 5 seconds, #\n",
    "    #which implies the maximum wait time is 5 seconds for the particular element to load or to arrive at the output\n",
    "    # means agr phle output aagya tho wait nhi krega yeh\n",
    "    \n",
    "    driver.implicitly_wait(5)\n",
    "    # as You login their comes a pop up saying whether you want to save the details or not Here we are \n",
    "    # handling this by clicking on not now button\n",
    "    try:# if this pop up comes click on not now\n",
    "        save_login_info=driver.find_element_by_xpath('//div[@class=\"cmbtv\"]/button').click()\n",
    "    except NoSuchElementException:# if no such pop-up open then pass (I'm doing this because some time this pop up doesnt came)\n",
    "        pass\n",
    "    # wait for some time to load the page\n",
    "    driver.implicitly_wait(10)\n",
    "    # ek notification aa rhi hai as you login :-\"Turn on Notifications Know right away when people follow you or like and comment on your photos.\"\n",
    "    # thi Extra_notification_handle is to handle that extra notification\n",
    "    Extra_notification_handle=driver.find_element_by_class_name('aOOlW.HoLwm ')#aOOlW   HoLwm is the class name for cancle button of notification \n",
    "    Extra_notification_handle.click()# bacuse the cancle button is not of submit type so I had to click\n",
    "    time.sleep(2)\n",
    "            \n",
    "\n",
    "\n",
    "# using geckodriver(FireFox web driver name) to remote the window please use the path for geckodriver as per your system\n",
    "# here geckodriver is within anaconda so I write it straight forward\n",
    "driver=webdriver.Firefox(executable_path='geckodriver')\n",
    "# calling login function\n",
    "login(driver)\n",
    "# list of content of all the post of top 5 handles\n",
    "post_content=[]\n",
    "# running the loop for top 5 contents\n",
    "for i in top_5_handles:\n",
    "    a=(Content_post(i))\n",
    "    print(\"content of blogger\",i,\"is:\",a)\n",
    "    print()\n",
    "    \n",
    "    \n",
    "    \n",
    "    \n",
    "    #********************* append in the list for futher use******************\n",
    "    post_content.append(a)"
   ]
  },
  {
   "cell_type": "markdown",
   "metadata": {},
   "source": [
    "# 4.2) Code for making a list of all the words and their frequency.."
   ]
  },
  {
   "cell_type": "code",
   "execution_count": 70,
   "metadata": {},
   "outputs": [
    {
     "name": "stdout",
     "output_type": "stream",
     "text": [
      "[['Recipe', 'of', 'the', 'Day:', \"@giadadelaureniis'\", 'Berry', 'Strata', '🍓Save', 'the', 'recipe', 'on', 'your', '@foodnetworkkitchen', 'app', 'today!', '#WeCook'], ['Ravioli', 'with', 'Ricotta', 'and', 'Mushrooms', '(with', '@chefanneburrell)', '', 'Chef', 'Anne', 'whips', 'up', 'her', 'famous', 'homemade', 'pasta', 'dough', 'for', 'her', 'Ravioli', 'with', 'Ricotta', 'and', 'Mushrooms!', '', 'Get', 'a', 'sneak', 'peek', 'at', \"Anne's\", 'Boot', 'Camp', 'demo', 'before', 'an', 'all-new', '#WorstCooks', 'Celebrity', 'Edition', '>', 'tonight', 'at', '9|8c.', '', 'Save', 'the', 'recipe', 'in', 'your', '@FoodNetworkKitchen', 'app!'], [\"@BobbyFlay's\", '5🌟', 'Bacon', 'Burgers', '', 'These', 'juicy', 'burgers', 'are', 'topped', 'with', 'a', 'generous', 'layer', 'of', 'rich,', 'creamy', 'pimiento', 'cheese', 'and', 'plenty', 'of', 'crispy', 'bacon', '🤤', '', 'Catch', '@bobbyflay', 'on', 'a', 'new', 'episode', 'of', '#BeatBobbyFlay,', 'tonight', '@', '10|9c!', '', 'Save', 'the', 'recipe', 'on', 'the', '@FoodNetworkKitchen', 'app.'], ['Class', 'of', 'the', 'Day:', 'Carrot', 'Cake', 'Scones', 'with', 'Cream', 'Cheese', 'Glaze', '🥕', 'All', 'the', 'flavors', 'of', 'carrot', 'cake', 'inflused', 'into', 'a', 'scone?', \"Don't\", 'mind', 'if', 'we', 'do!', 'Pastry', 'Chef', '@misschefsmileypants', 'shows', 'you', 'make', 'warm,', 'buttery', 'scones', 'and', 'a', 'tangy', 'cream', 'cheese', 'glaze', 'in', 'her', 'class', 'on', 'the', '@FoodNetworkKitchen', 'app!', '#WeCook'], ['Sprinkles', 'Cake', '(with', '@mollyyeh)', '✨', '', 'A', 'slice', 'of', 'this', 'cake', 'will', 'make', 'any', 'birthday', '1000x', 'better!', '', '#GirlMeetsFarm', '>', 'Sundays', '@', '11a|10c', '', 'Save', 'the', 'recipe', 'on', 'the', '@foodnetworkkitchen', 'app.'], ['Apple', 'Brown', 'Butter', 'Blondies', '(with', '@bakedbydan)', '', 'Blondies', 'are', 'SERIOUS', 'business', 'in', \"@bakedbydan's\", 'house!', 'And', 'these', 'Apple', 'Brown', 'Butter', 'Blondies', 'are', 'no', 'exception', '😍#WeCook', '', '#TheKitchen', '>', 'Saturdays', 'at', '11a|10c.', 'Get', \"Dan's\", 'recipe', 'on', 'the', '@FoodNetworkKitchen', 'app!'], ['Shrimp', 'Ravioli', 'with', 'Tomato', 'Sauce', '(with', '@TylerFlorence)', '', 'Tyler', 'serves', 'up', 'his', 'ultimate', 'tips', 'for', 'homemade', 'pasta', 'sheets', 'and', 'turns', 'them', 'into', 'delicious,', 'savory', 'shrimp', 'ravioli!', '', 'Get', 'a', 'sneak', 'peek', 'at', \"Tyler's\", 'Boot', 'Camp', 'demo', 'before', 'an', 'all-new', '#WorstCooks', 'Celebrity', 'Edition', '>', 'Sunday', 'at', '9|8c', '', 'Save', 'the', 'recipe', 'in', 'your', '@FoodNetworkKitchen', 'app!'], ['Serve', 'this', 'easy', 'creamy', 'whipped', 'ricotta', 'up', 'with', 'some', 'colorful', 'veg', 'and', 'crispy', 'garlic', 'toasts', 'and', 'you', 'have', 'one', 'HECK', 'of', 'a', 'snack', 'plate', 'on', 'your', 'hands!', 'You', 'can', 'take', \"@sparklessz's\", 'full', 'class', 'today', 'on', 'the', '@FoodNetworkKitchen', 'app.', '#WeCook'], ['Say', 'goodbye', 'to', 'overcooked', '(or', 'undercooked!)', 'bacon!', '@bobbyflay', 'says', 'THIS', 'is', 'the', 'most-consistent', 'way', 'to', 'make', 'it', '🥓', '', 'Watch', \"Bobby's\", 'full', 'Lumberjack', 'Brunch', 'class', 'on', 'the', '@foodnetworkkitchen', 'app', 'for', 'more', 'tips.'], [\"@KatieLeeKitchen's\", 'Lasagna', 'Roll-Ups', '🧀🧀', '', 'Make', 'a', 'double', 'batch', 'of', \"@KatieLeeKitchen's\", 'Veggie', 'Lasagna', 'Roll-Ups,', 'one', 'to', 'bake', 'tonight', 'and', 'one', 'to', 'freeze', 'for', 'later!', \"They're\", 'so', 'cheesy,', \"you're\", 'gonna', 'love', \"'em.\", '✨', 'Watch', 'the', 'newest', 'episode', 'of', '#WhatWouldKatieEat:', 'Home', 'Edition,', 'and', 'save', 'the', 'recipe', 'on', 'the', '@FoodNetworkKitchen', 'app', '✨'], ['Call', 'me', 'lazy..', 'but', 'how', 'many', 'noodles', 'can', 'this', 'machine', 'make', 'per', 'minute??', '🍜', '\\u2063', 'by', 'jdjdhcjxnmsnd626', '(tiktok)\\u2063'], ['Missing', 'the', 'Cannes', 'Film', 'Festival!!', 'What', 'events', 'are', 'you', 'missing', 'out', 'on??'], ['Should', 'this', 'be', 'a', 'dark,', 'milk,', 'or', 'white', 'chocolate', 'pool??\\u2063', '\\u2063', '📹@mrhalawa'], ['I', 'built', 'my', 'own', 'gym', 'w/', '@vodkabeluga', '..', 'who', 'wants', 'one?', 'ad', '', 'watch', 'till', 'ending...', 'a', 'surprise🚲🌙'], ['Comment', '🍓', 'for', 'the', 'UK', '🇬🇧', 'to', 'get', 'better', 'quickly!!', 'Can’t', 'wait', 'to', 'visit', 'soon!'], ['HOTTEST', 'trend', 'while', 'quarantined...', 'Dalgona', 'coffee!!!', '\\u2063\\u2063', '\\u2063\\u2063', 'Recipe:', '\\u2063', '2', 'tbsp', 'of', 'instant', 'coffee\\u2063\\u2063', '2', 'tbsp', 'of', 'sugar\\u2063\\u2063', '2', 'tbsp', 'of', 'hot', 'water\\u2063\\u2063', 'Whisk', 'if', 'all', 'together', 'until', 'you', 'can', 'creat', 'stiff', 'peaks.', 'Serve', 'over', 'ice', 'and', 'milk', 'of', 'your', 'choosing', '\\u2063', '\\u2063', '\\u2063', '📹', '@four_cups', '@edimdoma.ru', '\\u2063\\u2063', '🎵', 'Sweater', 'Weather', 'by', '@thenbhd'], ['Just', 'last', 'week', '😢', '@mylesprime112', '@fatjoe', '@therealnoreaga'], ['We', 'all', 'will', 'be', 'eating', 'cake', 'like', 'this', 'soon!!', 'We', 'will', 'also', 'get', 'through', 'this', 'together', '\\u2063', '\\u2063', '📹', '@fegourmet'], ['UPDATE:', 'STAY', 'HOME!!!!!', 'PLEASE', 'SUPPORT', 'your', 'local', 'businesses', 'and', 'restaurants,', 'they', 'need', 'your', 'support', 'NOW!!!'], ['Which', 'one', 'would', 'you', 'eat', 'first??'], ['For', 'this', 'kubaneh,', 'a', 'Yemenite', 'bread', 'traditionally', 'baked', 'overnight', 'for', 'eating', 'on', 'the', 'Sabbath,', '2020', '#FWBNC', '@camillecogswell', 'slow-bakes', 'coiled', 'dough', 'until', \"it's\", 'caramelized,', 'giving', 'it', 'a', 'richly', 'flavored,', 'golden-brown', 'interior,', 'then', 'tops', 'it', 'with', 'brown', 'sugar', 'ricotta', 'and', 'berries.', 'Tap', 'the', 'link', 'in', 'our', 'bio', 'for', 'her', 'recipe,', 'and', 'to', 'meet', 'the', 'rest', 'of', 'this', \"year's\", 'BNC', 'class.', '📷:', '@taradonnephoto'], ['2020', '#FWBNC', '@chefniven’s', 'kale', 'and', 'corn', 'pakoras', 'are', 'filled', 'with', 'fresh', 'corn,', 'peppers,', 'and', 'garam', 'masala.', 'A', 'mix', 'of', 'chickpea', 'and', 'rice', 'flours', 'helps', 'them', 'fry', 'up', 'light,', 'lacy,', 'and', 'extra', 'crunchy.', 'Tap', 'the', 'link', 'in', 'our', 'bio', 'for', 'his', 'recipe,', 'and', 'to', 'meet', 'the', 'rest', 'of', 'this', \"year's\", '#FWBNC', 'class.', '📷:', '@cedricangeles'], ['This', 'beaut', 'of', 'a', 'burger', 'is', 'a', 'two-hander,', 'topped', 'with', 'Japanese-spiced', 'chili,', 'tomatoes,', 'and', 'shredded', 'iceberg', 'lettuce.', 'Recipe', 'is', 'linked', 'in', 'our', 'bio,', 'and', 'tap', 'through', 'our', 'stories', 'for', 'everything', 'else', \"we're\", 'planning', 'to', 'cook', 'in', 'June.', '📷:', '@protazio'], ['With', 'its', 'creamy,', 'vaguely', 'nutty', 'flavor,', 'oat', 'milk', 'has', 'emerged', 'as', 'one', 'of', 'the', 'most', 'popular', 'plant-based', 'milks.', 'But', 'if', \"you've\", 'gotten', 'into', 'the', 'habit', 'of', 'pouring', 'oat', 'milk', 'into', 'your', 'coffee,', 'over', 'your', 'granola,', 'or', 'using', 'it', 'in', 'baking,', 'it', 'can', 'be', 'shocking', 'how', 'quickly', 'a', 'full', 'carton', 'turns', 'into', 'an', 'empty', 'one.', 'So', 'why', 'not', 'try', 'your', 'hand', 'at', 'making', 'it', 'yourself?', \"It's\", 'so', 'fast', 'to', 'make', 'that', 'you', 'can', 'whip', 'up', 'a', 'batch', 'before', 'your', 'morning', 'coffee.', 'Tap', 'the', 'link', 'in', 'our', 'bio', 'for', 'Deputy', 'Digital', 'Editor', \"@adinasteiman's\", 'how-to.', '📷:', '@antonisachilleos'], [\"What's\", 'for', 'dinner', 'tonight?', 'You', \"can't\", 'go', 'wrong', 'with', 'pasta', 'tossed', 'with', 'plenty', 'of', 'chopped', 'clams,', 'garlic,', 'and', 'tomato', 'sauce—here,', 'a', 'dose', 'of', 'anchovies', 'boost', 'the', 'savory', 'taste', 'of', 'the', 'clams,', 'herby', 'vermouth', 'stands', 'in', 'for', 'dry', 'white', 'wine', '(although', 'you', 'could', 'use', 'either),', 'and', 'a', 'touch', 'of', 'butter', 'tossed', 'in', 'at', 'the', 'end', 'unites', 'the', 'pasta', 'and', 'sauce', 'in', 'a', 'truly', 'magical', 'way.', 'Recipe', 'link', 'in', 'our', 'bio!', '📷:', '@antonisachilleos'], ['Bacon', 'makes', 'everything', 'better!', 'Tap', 'the', 'link', 'in', 'our', 'bio', 'for', 'the', 'ultimate', 'proof:', 'this', 'potato,', 'bacon', 'and', 'cheddar', 'tart.', '📷:', '@protazio'], ['Black', 'cherry–chocolate', 'ice', 'cream', 'sandwiches', '>', 'all', 'other', 'ice', 'cream', 'sandwiches!', 'Tap', 'the', 'link', 'in', 'our', 'bio', 'for', 'Culinary', 'Director', 'at', 'Large', \"@justinchapple's\", 'recipe.', '📷:', '@gregdupree'], [\"@vickybennison's\", 'gorgeous', 'parsley', 'egg', 'noodles', 'featured', 'in', 'our', 'February', 'issue', 'are', 'now', '@beardfoundation', 'Book', 'Award', 'winners!', 'Tap', 'the', 'links', 'in', 'our', 'bio', 'for', 'the', 'full', 'list', 'of', '2020', 'James', 'Beard', 'Foundation', 'Media', 'Award', 'winners,', 'and', 'for', 'the', 'egg', 'noodle', 'how-to.', '📷:', '@protazio'], ['Never', 'underestimate', 'the', 'power', 'of', 'a', 'pre-fry', 'soak!', \"It's\", 'the', 'secret', 'to', 'these', 'ultra', 'crispy', 'bbq-spiced', 'potato', 'chips,', 'which', 'are', 'so', 'much', 'easier', 'to', 'make', 'at', 'home', 'than', 'you', 'might', 'have', 'imagined.', 'Recipe', 'link', 'in', 'our', 'bio!', '📷:', '@protazio'], ['2020', '#FWBNC', \"@eunjoful's\", 'pickled', 'vegetable', 'kimbap', 'recipe', 'combines', 'pickled', 'peppers', 'and', 'daikon,', 'seasoned', 'rice,', 'and', 'nori', 'for', 'a', 'quick,', 'fresh', 'snack.', 'Tap', 'the', 'link', 'in', 'our', 'bio', 'for', 'her', 'recipe', 'and', 'to', 'meet', 'the', 'rest', 'of', 'this', \"year's\", 'class.', '📷:', '@taradonnephoto'], ['My', \"Dad's\", 'Favourite', 'Recipe', '', 'Jeera', 'Aloo', 'Super', 'Chatpata', 'Spicy', 'And', 'Very', 'Easy', 'To', 'Cook', '😬.', '#dilsefoodie', '#JeeraAloo'], ['Goan', 'Style', 'Chicken', 'Curry', '', 'Ye', 'Wali', 'Recipe', 'Try', 'Karo', 'If', 'You', 'Like', 'Coconut', 'Flavour', 'And', 'Spicy', 'Food', '#dilsefoodie'], ['Chicken', 'Korma', 'Recipe', '', 'Ab', 'Banao', 'Ghar', 'Pe', 'Chicken', 'Korma', '#dilsefoodie', '#chickenkorma'], ['Are', 'You', 'Also', 'Missing', 'Street', 'Food', '?', '', 'Tag', 'Your', 'Foodie', 'Friends', 'And', 'Tell', 'Me', 'After', 'Which', 'Street', 'Food', 'You', 'Are', 'Missing🙄.', '#dilsefoodie', '#food', '#guitar'], ['French', 'Toast', 'Recipe', '', 'Simple', 'And', 'Best', 'Breakfast', '#dilsefoodie', '#food', '#frenchtoast'], ['Ye', 'Restaurant', 'Sirf', '3hours', 'Khulta', 'Hai', '', 'Special', 'Mutton', 'Thali', 'At', 'Nana', 'Hotel', 'NH', '16,', 'Odisha', '#dilsefoodie', '#Food', '#odisha'], ['Old', 'Delhi', 'Style', 'Mutton', 'Korma', 'Recipe', '', 'EID', 'Special', 'Recipe', 'Mutton', 'Korma', 'Recipe', 'Credit', '@bharatzkitchen', '#dilsefoodie', '#food', '#muttonkorma', '#eidmubarak'], ['EID', 'Mubarak', 'To', 'All', 'My', 'Friends', 'Special', 'Mutton', 'Korma', 'Recipe', 'Coming', 'Tomorrow', 'Evening.', 'Tag', 'Mutton', 'Korma', 'Fans', 'Who', 'All', 'Are', 'Missing', 'Old', 'Delhi', 'Style', 'Mutton', 'Korma', '😁.', 'And', 'Tell', 'Me', 'Also', 'Which', 'Mutton', 'Korma', 'Is', 'Good', \"Karim's\", 'Or', 'Al', 'Jawahar', '#dilsefoodie', '#MuttonKorma'], ['Bamboo', 'Biryani', 'At', 'Jungle', 'View', 'Restaurant,', 'Odisha', '', '#dilsefoodie', '#bamboo', '#biryani', '#odisha'], ['VIRTUAL', 'IFTAAR', 'E', 'MEHFIL', '!!', '', 'Zindagi', 'ki', 'thi', 'tez', 'raftaar', 'Jaate', 'the', 'doston', 'ke', 'ghar', 'for', 'Iftaar', 'Aaj', 'karenge', 'hum', 'iftaar', 'virtual', 'Pehle', 'wali', 'Eid', 'manayenge', 'Aaj', 'nahi', 'to', 'Kal', '!', '', 'Do', 'you', 'miss', 'going', 'to', 'your', 'friends', 'and', 'family', '‘s', 'homes', 'for', 'Iftaari!?', 'Well', 'have', 'a', 'Virtual', 'Iftaar', 'Mehfil', 'like', 'we', 'did', '!', 'United', 'in', 'Food', 'and', 'Festival', '!', 'Covid', '19', 'has', 'us', 'locked', 'down', 'in', 'our', 'homes', 'but', 'cannot', 'take', 'away', 'the', 'spirit', 'of', 'celebration', 'of', 'festivals', '!!', 'Will', 'you', 'join', 'us', 'all', 'in', 'our', 'Virtual', 'Iftaar', 'E', 'Mehfil', '!?', 'In', 'video', 'are', '@dilsefoodie', '@luckyladyblossom', '@he_cook_she_eat', '@geetasfoodielife', '@chatpati_shikha', '@chefrehman', '@foodconnectindia', '@foodjournal_mumbai', '@mistertikku', '.', 'Concept', 'by', '@luckyladyblossom', 'Video', 'editing', 'and', 'caption', 'by', '@geetasfoodielife', '', '#dilsefoodie', '#virtualiftaar'], ['This', 'punch', 'packing,', 'boozy', 'bitter', 'is', 'a', '3', 'ingredient', 'cocktail', 'like', 'none', 'other.', 'Here', 'are', '3', 'interesting', 'facts', 'about', 'a', 'Negroni.', '.', '-', 'It', 'was', 'created', 'upon', 'a', 'request', 'for', 'an', '‘Americano', 'with', 'a', 'gin’', 'by', 'Count', 'Camillo', 'Negroni', '(Italian', 'nobleman)', 'in', '1919', 'in', 'Florence', '-', 'Has', 'been', 'voted', 'as', 'the', 'second', 'best', 'cocktail', 'four', 'times', 'in', 'a', 'row', 'according', 'to', 'the', 'Drinks', 'International.', '-', 'Negronis', 'are', 'always', 'far', 'better', 'when', 'stirred', 'with', 'the', 'finger'], ['Mangoes,', 'Avocados,', 'Pineapple,', 'watermelon', 'and', 'many', 'more.', '@bestfruitcompany', 'have', 'it', 'all.', 'A', 'home', 'grown', 'brand', 'that', 'believes', 'in', 'handpicked', 'fruit.', '', 'No', 'need', 'to', 'worry', 'about', 'stepping', 'out', 'and', 'exposing', 'yourself', 'to', 'taste', 'the', 'goodness', 'of', 'best', 'fruit', '🥭🥑🍉🍍', '.', '.', '', 'For', 'contactless', 'safe', 'delivery', 'whatsapp', 'us', 'on', '+919818817754'], ['Tired', 'of', 'cooking', 'at', 'home?', '@unitedcoffeehouse', 'has', 'opened', 'its', 'kitchens', 'and', 'is', 'now', 'available', 'through', 'take-away', 'or', 'home', 'deliveries.', 'Taking', 'all', 'possible', 'hygiene', 'measures', 'to', 'give', 'you', 'the', 'same', 'experience', 'you', 'have', 'savoured', 'since', 'decades.', 'For', 'Deliveries', '&', 'Take', 'Out', 'Call:', '\\u202a9650596114\\u202c', '/', '\\u202a01123416075\\u202c', '/', '\\u202a01123411697\\u202c', 'E-15,', 'Inner', 'Circle', 'Connaught', 'Place'], ['Ice', 'game', 'strong', '', '.', '.', '', '@isaynegroni', 'on', 'how', 'to', 'make', 'crystal', 'clear', 'ice', 'blocks', 'at', 'home'], ['From', 'the', 'flavourful', 'biryani', 'to', 'the', 'melt', 'in', 'the', 'mouth', 'kakori', 'kebabs', 'to', 'the', 'heavenly', 'butter', 'chicken', 'and', 'so', 'much', 'more!', '.', '.', '.', '@koylakebab', 'is', 'now', 'delivering', 'all', 'the', 'deliciousness', 'from', 'their', 'restaurant', 'to', 'your', 'door.', 'Taking', 'all', 'precautions', 'and', 'ensuring', 'nothing', 'but', 'the', 'safest', 'deliveries!', '.', '.', 'Defence', 'Colony:', '011-41627744', 'PVR', 'Saket:', '011-46581555'], ['If', 'you', 'are', 'a', 'restaurant/', 'food', 'delivery', 'looking', 'to', 'reopen', 'operations', 'in', 'this', 'new', 'phase', 'of', 'the', 'restrictions', 'lifting,', 'here', 'is', 'our', 'guide', 'on', 'how', 'to', 'stay', 'safe', 'and', 'keep', 'customers', 'safe.', '', 'Step', '1.', 'Deep', 'cleaning', 'and', 'sanitisation:', '🧼', '.', 'Now', 'easily', 'doable', 'with', 'services', 'like', 'virus', 'busters', 'Step', '2.', 'Setting', 'up', 'hygiene', '&', 'safety', 'protocols:', '🌡️', '.', 'Mandatory', 'temperature', 'checks', 'everyday;', 'sanitiser', 'application,', '20', 'second', 'hand', 'wash', 'requirement', 'at', 'regular', 'intervals', 'for', 'staff', 'and', 'visitors.', '', 'For', 'delivery', 'boys', 'set', 'a', 'pick-up', 'counter', 'with', 'a', 'sanitiser', 'dispenser', 'to', 'create', 'a', 'contactless', 'experience', 'with', 'your', 'kitchen', 'staff.', '', 'Step', '3:', 'Menu', 'planning:', '📋', '.', 'Plan', 'a', 'limited', 'menu', 'with', 'start', 'dishes', 'that', 'people', 'are', 'missing', 'from', 'your', 'restaurant', 'and', 'focus', 'on', 'delivering', 'great', 'food', 'and', 'great', 'quality.', '', 'Step', '4:', 'Minimum', 'hands', 'on', 'board:', '✋', '.', 'Keep', 'your', 'staff', 'strength', 'to', 'the', 'bare', 'minimum', 'required', 'and', 'ensure', 'everyone', 'in', 'the', 'kitchen', 'is', 'following', 'strict', 'hygiene', 'protocol', 'both', 'in', 'the', 'kitchen', 'and', 'at', 'home.', '', 'An', 'ideal', 'team', 'of', '2-3', 'is', 'what', 'we', 'suggest', 'for', 'now.', '', 'Step', '5:', 'Communicate', 'with', 'your', 'local', 'customers', '🗣️', '.', 'Reach', 'out', 'to', 'your', 'customers,', 'send', 'them', 'the', 'menu', 'catalogue', 'and', 'let', 'them', 'know', 'their', 'favourite', 'restaurant', 'is', 'open', 'for', 'delivery/', 'takeout.', '', 'Ps.', 'Add', 'a', 'note', 'with', 'the', \"chef's\", 'and', 'delivery', 'boys', 'body', 'temperature', 'along', 'with', 'the', 'order', 'to', 'ensure', '100%', 'safety', 'for', 'customers.', '📝'], ['Ooops', 'we', 'did', 'it', 'again!', '🙈', '.', 'Whether', 'you', 'are', 'a', 'first', 'time', 'baker', 'or', 'a', 'pro', 'we', 'would', 'like', 'to', 'believe', 'everyone', 'at', 'some', 'point', 'of', 'time', 'in', 'their', 'life', 'has', 'mistakenly', 'used', 'salt', 'instead', 'of', 'icing', 'sugar.', '🤷\\u200d♀️', '.', 'Share', 'your', 'hilarious', 'quarantine', 'baking', 'disasters', 'in', 'the', 'comments', 'below', 'to', 'claim', 'yourself', 'as', 'the', 'champion', 'of', 'most-failed', 'baking', 'attempts.', '💪'], ['Gooey', 'chocolate', 'fudge/brigadeiro', '', 'In', 'the', 'kitchen', 'with', '@cheftejasvichandela', '(', '@allthingschocolates', ')', '', 'A', 'delicious', 'indulgent', 'that’s', 'super', 'easy,', 'here', 'goes', 'the', 'recipe', 'for', '3', 'ingredient', 'chocolate', 'fudge!', '', '@cheftejasvichandela', 'has', 'used', 'her', 'favourite', '@allthingschocolates', '64%', 'malabar', 'dark', 'chef’s', 'chocolate', 'and', '33%', 'blended', 'milk', 'chocolate.', '', 'Ingredients', '-150ml', 'condensed', 'milk', '-450g', '(half', '64%', 'Malabar', 'dark', 'and', 'half', '33%', 'milk', 'Chef’s', 'chocolate', 'from', '@allthingschocolates', ')', '-100g', 'unsalted', 'butter', '-big', 'pinch', 'of', 'salt.', '', 'Steps', '1.', 'In', 'a', 'saucepan', 'add', 'butter', 'and', 'chocolate', 'chunks', 'and', 'condensed', 'milk.', '2.', 'Make', 'sure', 'the', 'heat', 'is', 'on', 'low', 'to', 'medium', 'and', 'start', 'mixing', 'the', 'ingredients', 'put', 'in', 'the', 'saucepan.', '3.', 'Mix', 'it', 'constantly', 'so', 'it', 'does', 'not', 'get', 'stuck', 'to', 'the', 'pan.', '4.', 'Add', 'a', 'pinch', 'of', 'salt', 'and', 'continue', 'mixing.', '5.', 'When', 'it', 'starts', 'to', 'bubble', 'up,', 'switch', 'off', 'the', 'heat.', '6.', 'Line', 'the', 'tin', 'with', 'a', 'little', 'bit', 'of', 'oil', 'or', 'butter.', '7.', 'Pour', 'the', 'fudge', 'in.', '8.', 'Let', 'it', 'sit', 'in', 'the', 'fridge', 'for', '2-3', 'hours.', '9.', 'Then', 'cut', 'it', 'up', 'in', 'blocks', 'or', 'roll', 'it', 'into', 'truffle', 'balls', 'and', 'enjoy!'], ['Coorg', 'Style', 'Pepper', 'Mutton', '', 'In', 'the', 'kitchen', 'with', '@pigout_coorgkitchen', '(Dry', 'dish)', 'Serves', '4', '', 'Ingredients:', '', 'Mutton', '-', '1/2', 'kg', '(curry', 'cut,', 'with', 'bone)', 'Onion', '-', '2', 'medium', 'size', '(sliced)', 'Green', 'chilli', '-', '2', '(slit', 'in', 'half)', 'Black', 'pepper', '-', '2', 'tbsp', 'Coarse', 'grind', 'Ginger-', 'Garlic', 'paste', '-', '2', 'tbsp', 'Haldi', '-', '1', 'heaped', 'tsp', 'Salt', '-', 'To', 'taste', 'Oil', 'for', 'frying', '', 'Kachampulli', '(Coorg', 'black', 'vinegar)', '-', '1', 'tbsp', 'OR', 'Regular', 'cooking', 'vinegar', '-', '1', 'tbsp', 'and', 'Tamarind', 'paste', '-', '1', 'tbsp', '', 'Method:', '⁃', 'Pressure', 'cook', 'mutton', 'in', '3', 'cups', 'water,', 'salt', 'and', 'haldi.', 'Till', '3/4th', 'cooked.', '⁃', 'Heat', 'oil', 'in', 'a', 'pan,', 'add', 'onions', 'and', 'fry', 'till', 'they', 'being', 'to', 'brown.', '⁃', 'Add', 'ginger', 'garlic', 'paste,', 'green', 'chilli', 'and', 'fry.', '⁃', 'Once', 'masala', 'is', 'cooked.', 'Add', 'mutton,', 'green', 'and', 'pepper.', 'And', 'fry', 'on', 'a', 'medium', 'flame.', '⁃', 'Once', 'the', 'oil', 'begins', 'to', 'separate', 'from', 'the', 'meat,', 'add', 'remaining', 'stock', '(water', 'from', 'the', 'pressure', 'cooker)', 'and', 'allow', 'the', 'meat', 'to', 'fully', 'cook', 'in', 'the', 'liquid.', '⁃', 'Once', 'meat', 'is', 'soft', 'and', 'cooked.', 'Add', 'kachampulli', 'or', 'tamarind', 'and', 'vinegar.', '⁃', 'Fry', 'the', 'meat', 'on', 'a', 'high', 'flame', 'for', '2-3minutes,', 'let', 'all', 'the', 'liquid', 'dry', 'up.', 'Serve', 'with', 'a', 'squeeze', 'of', 'lime.', '', 'Tip', ':', 'When', 'using', 'Kachampulli', 'vinegar,', 'it’s', 'recommended', 'to', 'give', 'it', 'at', 'least', '24hrs', 'before', 'serving,', 'so', 'that', 'the', 'vinegar', 'has', 'time', 'to', 'settle', 'and', 'bring', 'out', 'its', 'full', 'flavour.']]\n",
      "\n",
      "The dict containing words and their freq:\n",
      "\n",
      "{'Recipe': 12, 'of': 40, 'the': 83, 'Day:': 2, \"@giadadelaureniis'\": 1, 'Berry': 1, 'Strata': 1, '🍓Save': 1, 'recipe': 10, 'on': 19, 'your': 19, '@foodnetworkkitchen': 3, 'app': 3, 'today!': 1, '#WeCook': 3, 'Ravioli': 3, 'with': 25, 'Ricotta': 2, 'and': 61, 'Mushrooms': 1, '(with': 4, '@chefanneburrell)': 1, '': 50, 'Chef': 2, 'Anne': 1, 'whips': 1, 'up': 7, 'her': 6, 'famous': 1, 'homemade': 2, 'pasta': 4, 'dough': 2, 'for': 29, 'Mushrooms!': 1, 'Get': 3, 'a': 42, 'sneak': 2, 'peek': 2, 'at': 15, \"Anne's\": 1, 'Boot': 2, 'Camp': 2, 'demo': 2, 'before': 4, 'an': 4, 'all-new': 2, '#WorstCooks': 2, 'Celebrity': 2, 'Edition': 2, '>': 5, 'tonight': 3, '9|8c.': 1, 'Save': 4, 'in': 40, '@FoodNetworkKitchen': 7, 'app!': 4, \"@BobbyFlay's\": 1, '5🌟': 1, 'Bacon': 2, 'Burgers': 1, 'These': 1, 'juicy': 1, 'burgers': 1, 'are': 13, 'topped': 2, 'generous': 1, 'layer': 1, 'rich,': 1, 'creamy': 2, 'pimiento': 1, 'cheese': 2, 'plenty': 2, 'crispy': 3, 'bacon': 2, '🤤': 1, 'Catch': 1, '@bobbyflay': 2, 'new': 2, 'episode': 2, '#BeatBobbyFlay,': 1, '@': 2, '10|9c!': 1, 'app.': 3, 'Class': 1, 'Carrot': 1, 'Cake': 2, 'Scones': 1, 'Cream': 1, 'Cheese': 1, 'Glaze': 1, '🥕': 1, 'All': 3, 'flavors': 1, 'carrot': 1, 'cake': 3, 'inflused': 1, 'into': 6, 'scone?': 1, \"Don't\": 1, 'mind': 1, 'if': 3, 'we': 5, 'do!': 1, 'Pastry': 1, '@misschefsmileypants': 1, 'shows': 1, 'you': 14, 'make': 7, 'warm,': 1, 'buttery': 1, 'scones': 1, 'tangy': 1, 'cream': 3, 'glaze': 1, 'class': 3, 'Sprinkles': 1, '@mollyyeh)': 1, '✨': 3, 'A': 4, 'slice': 1, 'this': 12, 'will': 3, 'any': 1, 'birthday': 1, '1000x': 1, 'better!': 2, '#GirlMeetsFarm': 1, 'Sundays': 1, '11a|10c': 1, 'Apple': 2, 'Brown': 2, 'Butter': 2, 'Blondies': 3, '@bakedbydan)': 1, 'SERIOUS': 1, 'business': 1, \"@bakedbydan's\": 1, 'house!': 1, 'And': 7, 'these': 2, 'no': 1, 'exception': 1, '😍#WeCook': 1, '#TheKitchen': 1, 'Saturdays': 1, '11a|10c.': 1, \"Dan's\": 1, 'Shrimp': 1, 'Tomato': 1, 'Sauce': 1, '@TylerFlorence)': 1, 'Tyler': 1, 'serves': 1, 'his': 2, 'ultimate': 2, 'tips': 1, 'sheets': 1, 'turns': 2, 'them': 4, 'delicious,': 1, 'savory': 2, 'shrimp': 1, 'ravioli!': 1, \"Tyler's\": 1, 'Sunday': 1, '9|8c': 1, 'Serve': 3, 'easy': 1, 'whipped': 1, 'ricotta': 2, 'some': 2, 'colorful': 1, 'veg': 1, 'garlic': 2, 'toasts': 1, 'have': 5, 'one': 5, 'HECK': 1, 'snack': 1, 'plate': 1, 'hands!': 1, 'You': 5, 'can': 5, 'take': 2, \"@sparklessz's\": 1, 'full': 5, 'today': 1, 'Say': 1, 'goodbye': 1, 'to': 39, 'overcooked': 1, '(or': 1, 'undercooked!)': 1, 'bacon!': 1, 'says': 1, 'THIS': 1, 'is': 13, 'most-consistent': 1, 'way': 1, 'it': 15, '🥓': 1, 'Watch': 2, \"Bobby's\": 1, 'Lumberjack': 1, 'Brunch': 1, 'more': 1, 'tips.': 1, \"@KatieLeeKitchen's\": 2, 'Lasagna': 2, 'Roll-Ups': 1, '🧀🧀': 1, 'Make': 2, 'double': 1, 'batch': 2, 'Veggie': 1, 'Roll-Ups,': 1, 'bake': 1, 'freeze': 1, 'later!': 1, \"They're\": 1, 'so': 6, 'cheesy,': 1, \"you're\": 1, 'gonna': 1, 'love': 1, \"'em.\": 1, 'newest': 1, '#WhatWouldKatieEat:': 1, 'Home': 1, 'Edition,': 1, 'save': 1, 'Call': 1, 'me': 1, 'lazy..': 1, 'but': 3, 'how': 4, 'many': 2, 'noodles': 2, 'machine': 1, 'per': 1, 'minute??': 1, '🍜': 1, '\\u2063': 8, 'by': 5, 'jdjdhcjxnmsnd626': 1, '(tiktok)\\u2063': 1, 'Missing': 3, 'Cannes': 1, 'Film': 1, 'Festival!!': 1, 'What': 1, 'events': 1, 'missing': 2, 'out': 4, 'on??': 1, 'Should': 1, 'be': 3, 'dark,': 1, 'milk,': 1, 'or': 7, 'white': 2, 'chocolate': 6, 'pool??\\u2063': 1, '📹@mrhalawa': 1, 'I': 1, 'built': 1, 'my': 1, 'own': 1, 'gym': 1, 'w/': 1, '@vodkabeluga': 1, '..': 1, 'who': 1, 'wants': 1, 'one?': 1, 'ad': 1, 'watch': 1, 'till': 2, 'ending...': 1, 'surprise🚲🌙': 1, 'Comment': 1, '🍓': 1, 'UK': 1, '🇬🇧': 1, 'get': 3, 'better': 2, 'quickly!!': 1, 'Can’t': 1, 'wait': 1, 'visit': 1, 'soon!': 1, 'HOTTEST': 1, 'trend': 1, 'while': 1, 'quarantined...': 1, 'Dalgona': 1, 'coffee!!!': 1, '\\u2063\\u2063': 3, 'Recipe:': 1, '2': 7, 'tbsp': 8, 'instant': 1, 'coffee\\u2063\\u2063': 1, 'sugar\\u2063\\u2063': 1, 'hot': 1, 'water\\u2063\\u2063': 1, 'Whisk': 1, 'all': 8, 'together': 2, 'until': 2, 'creat': 1, 'stiff': 1, 'peaks.': 1, 'over': 2, 'ice': 4, 'milk': 6, 'choosing': 1, '📹': 2, '@four_cups': 1, '@edimdoma.ru': 1, '🎵': 1, 'Sweater': 1, 'Weather': 1, '@thenbhd': 1, 'Just': 1, 'last': 1, 'week': 1, '😢': 1, '@mylesprime112': 1, '@fatjoe': 1, '@therealnoreaga': 1, 'We': 2, 'eating': 2, 'like': 5, 'soon!!': 1, 'also': 1, 'through': 3, '@fegourmet': 1, 'UPDATE:': 1, 'STAY': 1, 'HOME!!!!!': 1, 'PLEASE': 1, 'SUPPORT': 1, 'local': 2, 'businesses': 1, 'restaurants,': 1, 'they': 2, 'need': 2, 'support': 1, 'NOW!!!': 1, 'Which': 3, 'would': 2, 'eat': 1, 'first??': 1, 'For': 4, 'kubaneh,': 1, 'Yemenite': 1, 'bread': 1, 'traditionally': 1, 'baked': 1, 'overnight': 1, 'Sabbath,': 1, '2020': 4, '#FWBNC': 4, '@camillecogswell': 1, 'slow-bakes': 1, 'coiled': 1, \"it's\": 1, 'caramelized,': 1, 'giving': 1, 'richly': 1, 'flavored,': 1, 'golden-brown': 1, 'interior,': 1, 'then': 1, 'tops': 1, 'brown': 1, 'sugar': 1, 'berries.': 1, 'Tap': 7, 'link': 8, 'our': 15, 'bio': 7, 'recipe,': 2, 'meet': 3, 'rest': 3, \"year's\": 3, 'BNC': 1, 'class.': 3, '📷:': 10, '@taradonnephoto': 2, '@chefniven’s': 1, 'kale': 1, 'corn': 1, 'pakoras': 1, 'filled': 1, 'fresh': 2, 'corn,': 1, 'peppers,': 1, 'garam': 1, 'masala.': 1, 'mix': 1, 'chickpea': 1, 'rice': 1, 'flours': 1, 'helps': 1, 'fry': 3, 'light,': 1, 'lacy,': 1, 'extra': 1, 'crunchy.': 1, '@cedricangeles': 1, 'This': 2, 'beaut': 1, 'burger': 1, 'two-hander,': 1, 'Japanese-spiced': 1, 'chili,': 1, 'tomatoes,': 1, 'shredded': 1, 'iceberg': 1, 'lettuce.': 1, 'linked': 1, 'bio,': 1, 'tap': 1, 'stories': 1, 'everything': 2, 'else': 1, \"we're\": 1, 'planning': 1, 'cook': 3, 'June.': 1, '@protazio': 4, 'With': 1, 'its': 3, 'creamy,': 1, 'vaguely': 1, 'nutty': 1, 'flavor,': 1, 'oat': 2, 'has': 6, 'emerged': 1, 'as': 3, 'most': 1, 'popular': 1, 'plant-based': 1, 'milks.': 1, 'But': 1, \"you've\": 1, 'gotten': 1, 'habit': 1, 'pouring': 1, 'coffee,': 1, 'granola,': 1, 'using': 2, 'baking,': 1, 'shocking': 1, 'quickly': 1, 'carton': 1, 'empty': 1, 'one.': 1, 'So': 1, 'why': 1, 'not': 2, 'try': 1, 'hand': 2, 'making': 1, 'yourself?': 1, \"It's\": 2, 'fast': 1, 'that': 4, 'whip': 1, 'morning': 1, 'coffee.': 1, 'Deputy': 1, 'Digital': 1, 'Editor': 1, \"@adinasteiman's\": 1, 'how-to.': 2, '@antonisachilleos': 2, \"What's\": 1, 'dinner': 1, 'tonight?': 1, \"can't\": 1, 'go': 1, 'wrong': 1, 'tossed': 2, 'chopped': 1, 'clams,': 2, 'garlic,': 1, 'tomato': 1, 'sauce—here,': 1, 'dose': 1, 'anchovies': 1, 'boost': 1, 'taste': 3, 'herby': 1, 'vermouth': 1, 'stands': 1, 'dry': 2, 'wine': 1, '(although': 1, 'could': 1, 'use': 1, 'either),': 1, 'touch': 1, 'butter': 4, 'end': 1, 'unites': 1, 'sauce': 1, 'truly': 1, 'magical': 1, 'way.': 1, 'bio!': 2, 'makes': 1, 'proof:': 1, 'potato,': 1, 'cheddar': 1, 'tart.': 1, 'Black': 2, 'cherry–chocolate': 1, 'sandwiches': 1, 'other': 1, 'sandwiches!': 1, 'Culinary': 1, 'Director': 1, 'Large': 1, \"@justinchapple's\": 1, 'recipe.': 1, '@gregdupree': 1, \"@vickybennison's\": 1, 'gorgeous': 1, 'parsley': 1, 'egg': 2, 'featured': 1, 'February': 1, 'issue': 1, 'now': 3, '@beardfoundation': 1, 'Book': 1, 'Award': 2, 'winners!': 1, 'links': 1, 'list': 1, 'James': 1, 'Beard': 1, 'Foundation': 1, 'Media': 1, 'winners,': 1, 'noodle': 1, 'Never': 1, 'underestimate': 1, 'power': 1, 'pre-fry': 1, 'soak!': 1, 'secret': 1, 'ultra': 1, 'bbq-spiced': 1, 'potato': 1, 'chips,': 1, 'which': 1, 'much': 2, 'easier': 1, 'home': 4, 'than': 1, 'might': 1, 'imagined.': 1, \"@eunjoful's\": 1, 'pickled': 2, 'vegetable': 1, 'kimbap': 1, 'combines': 1, 'peppers': 1, 'daikon,': 1, 'seasoned': 1, 'rice,': 1, 'nori': 1, 'quick,': 1, 'snack.': 1, 'My': 2, \"Dad's\": 1, 'Favourite': 1, 'Jeera': 1, 'Aloo': 1, 'Super': 1, 'Chatpata': 1, 'Spicy': 2, 'Very': 1, 'Easy': 1, 'To': 3, 'Cook': 1, '😬.': 1, '#dilsefoodie': 10, '#JeeraAloo': 1, 'Goan': 1, 'Style': 4, 'Chicken': 3, 'Curry': 1, 'Ye': 2, 'Wali': 1, 'Try': 1, 'Karo': 1, 'If': 2, 'Like': 1, 'Coconut': 1, 'Flavour': 1, 'Food': 4, 'Korma': 8, 'Ab': 1, 'Banao': 1, 'Ghar': 1, 'Pe': 1, '#chickenkorma': 1, 'Are': 3, 'Also': 2, 'Street': 2, '?': 1, 'Tag': 2, 'Your': 1, 'Foodie': 1, 'Friends': 2, 'Tell': 2, 'Me': 2, 'After': 1, 'Missing🙄.': 1, '#food': 3, '#guitar': 1, 'French': 1, 'Toast': 1, 'Simple': 1, 'Best': 1, 'Breakfast': 1, '#frenchtoast': 1, 'Restaurant': 1, 'Sirf': 1, '3hours': 1, 'Khulta': 1, 'Hai': 1, 'Special': 3, 'Mutton': 9, 'Thali': 1, 'At': 2, 'Nana': 1, 'Hotel': 1, 'NH': 1, '16,': 1, 'Odisha': 2, '#Food': 1, '#odisha': 2, 'Old': 2, 'Delhi': 2, 'EID': 2, 'Credit': 1, '@bharatzkitchen': 1, '#muttonkorma': 1, '#eidmubarak': 1, 'Mubarak': 1, 'Coming': 1, 'Tomorrow': 1, 'Evening.': 1, 'Fans': 1, 'Who': 1, '😁.': 1, 'Is': 1, 'Good': 1, \"Karim's\": 1, 'Or': 1, 'Al': 1, 'Jawahar': 1, '#MuttonKorma': 1, 'Bamboo': 1, 'Biryani': 1, 'Jungle': 1, 'View': 1, 'Restaurant,': 1, '#bamboo': 1, '#biryani': 1, 'VIRTUAL': 1, 'IFTAAR': 1, 'E': 2, 'MEHFIL': 1, '!!': 2, 'Zindagi': 1, 'ki': 1, 'thi': 1, 'tez': 1, 'raftaar': 1, 'Jaate': 1, 'doston': 1, 'ke': 1, 'ghar': 1, 'Iftaar': 3, 'Aaj': 2, 'karenge': 1, 'hum': 1, 'iftaar': 1, 'virtual': 1, 'Pehle': 1, 'wali': 1, 'Eid': 1, 'manayenge': 1, 'nahi': 1, 'Kal': 1, '!': 3, 'Do': 1, 'miss': 1, 'going': 1, 'friends': 1, 'family': 1, '‘s': 1, 'homes': 2, 'Iftaari!?': 1, 'Well': 1, 'Virtual': 2, 'Mehfil': 2, 'did': 2, 'United': 1, 'Festival': 1, 'Covid': 1, '19': 1, 'us': 3, 'locked': 1, 'down': 1, 'cannot': 1, 'away': 1, 'spirit': 1, 'celebration': 1, 'festivals': 1, 'Will': 1, 'join': 1, '!?': 1, 'In': 4, 'video': 1, '@dilsefoodie': 1, '@luckyladyblossom': 2, '@he_cook_she_eat': 1, '@geetasfoodielife': 2, '@chatpati_shikha': 1, '@chefrehman': 1, '@foodconnectindia': 1, '@foodjournal_mumbai': 1, '@mistertikku': 1, '.': 18, 'Concept': 1, 'Video': 1, 'editing': 1, 'caption': 1, '#virtualiftaar': 1, 'punch': 1, 'packing,': 1, 'boozy': 1, 'bitter': 1, '3': 4, 'ingredient': 2, 'cocktail': 2, 'none': 1, 'other.': 1, 'Here': 1, 'interesting': 1, 'facts': 1, 'about': 2, 'Negroni.': 1, '-': 13, 'It': 1, 'was': 1, 'created': 1, 'upon': 1, 'request': 1, '‘Americano': 1, 'gin’': 1, 'Count': 1, 'Camillo': 1, 'Negroni': 1, '(Italian': 1, 'nobleman)': 1, '1919': 1, 'Florence': 1, 'Has': 1, 'been': 1, 'voted': 1, 'second': 2, 'best': 2, 'four': 1, 'times': 1, 'row': 1, 'according': 1, 'Drinks': 1, 'International.': 1, 'Negronis': 1, 'always': 1, 'far': 1, 'when': 1, 'stirred': 1, 'finger': 1, 'Mangoes,': 1, 'Avocados,': 1, 'Pineapple,': 1, 'watermelon': 1, 'more.': 1, '@bestfruitcompany': 1, 'all.': 1, 'grown': 1, 'brand': 1, 'believes': 1, 'handpicked': 1, 'fruit.': 1, 'No': 1, 'worry': 1, 'stepping': 1, 'exposing': 1, 'yourself': 2, 'goodness': 1, 'fruit': 1, '🥭🥑🍉🍍': 1, 'contactless': 2, 'safe': 2, 'delivery': 4, 'whatsapp': 1, '+919818817754': 1, 'Tired': 1, 'cooking': 2, 'home?': 1, '@unitedcoffeehouse': 1, 'opened': 1, 'kitchens': 1, 'available': 1, 'take-away': 1, 'deliveries.': 1, 'Taking': 2, 'possible': 1, 'hygiene': 3, 'measures': 1, 'give': 2, 'same': 1, 'experience': 2, 'savoured': 1, 'since': 1, 'decades.': 1, 'Deliveries': 1, '&': 2, 'Take': 1, 'Out': 1, 'Call:': 1, '\\u202a9650596114\\u202c': 1, '/': 2, '\\u202a01123416075\\u202c': 1, '\\u202a01123411697\\u202c': 1, 'E-15,': 1, 'Inner': 1, 'Circle': 1, 'Connaught': 1, 'Place': 1, 'Ice': 1, 'game': 1, 'strong': 1, '@isaynegroni': 1, 'crystal': 1, 'clear': 1, 'blocks': 2, 'From': 1, 'flavourful': 1, 'biryani': 1, 'melt': 1, 'mouth': 1, 'kakori': 1, 'kebabs': 1, 'heavenly': 1, 'chicken': 1, 'more!': 1, '@koylakebab': 1, 'delivering': 2, 'deliciousness': 1, 'from': 5, 'their': 3, 'restaurant': 3, 'door.': 1, 'precautions': 1, 'ensuring': 1, 'nothing': 1, 'safest': 1, 'deliveries!': 1, 'Defence': 1, 'Colony:': 1, '011-41627744': 1, 'PVR': 1, 'Saket:': 1, '011-46581555': 1, 'restaurant/': 1, 'food': 2, 'looking': 1, 'reopen': 1, 'operations': 1, 'phase': 1, 'restrictions': 1, 'lifting,': 1, 'here': 2, 'guide': 1, 'stay': 1, 'keep': 1, 'customers': 2, 'safe.': 1, 'Step': 5, '1.': 2, 'Deep': 1, 'cleaning': 1, 'sanitisation:': 1, '🧼': 1, 'Now': 1, 'easily': 1, 'doable': 1, 'services': 1, 'virus': 1, 'busters': 1, '2.': 2, 'Setting': 1, 'safety': 2, 'protocols:': 1, '🌡️': 1, 'Mandatory': 1, 'temperature': 2, 'checks': 1, 'everyday;': 1, 'sanitiser': 2, 'application,': 1, '20': 1, 'wash': 1, 'requirement': 1, 'regular': 1, 'intervals': 1, 'staff': 2, 'visitors.': 1, 'boys': 2, 'set': 1, 'pick-up': 1, 'counter': 1, 'dispenser': 1, 'create': 1, 'kitchen': 5, 'staff.': 1, '3:': 1, 'Menu': 1, 'planning:': 1, '📋': 1, 'Plan': 1, 'limited': 1, 'menu': 2, 'start': 2, 'dishes': 1, 'people': 1, 'focus': 1, 'great': 2, 'quality.': 1, '4:': 1, 'Minimum': 1, 'hands': 1, 'board:': 1, '✋': 1, 'Keep': 1, 'strength': 1, 'bare': 1, 'minimum': 1, 'required': 1, 'ensure': 2, 'everyone': 2, 'following': 1, 'strict': 1, 'protocol': 1, 'both': 1, 'home.': 1, 'An': 1, 'ideal': 1, 'team': 1, '2-3': 2, 'what': 1, 'suggest': 1, 'now.': 1, '5:': 1, 'Communicate': 1, '🗣️': 1, 'Reach': 1, 'customers,': 1, 'send': 1, 'catalogue': 1, 'let': 2, 'know': 1, 'favourite': 2, 'open': 1, 'delivery/': 1, 'takeout.': 1, 'Ps.': 1, 'Add': 5, 'note': 1, \"chef's\": 1, 'body': 1, 'along': 1, 'order': 1, '100%': 1, 'customers.': 1, '📝': 1, 'Ooops': 1, 'again!': 1, '🙈': 1, 'Whether': 1, 'first': 1, 'time': 3, 'baker': 1, 'pro': 1, 'believe': 1, 'point': 1, 'life': 1, 'mistakenly': 1, 'used': 2, 'salt': 3, 'instead': 1, 'icing': 1, 'sugar.': 1, '🤷\\u200d♀️': 1, 'Share': 1, 'hilarious': 1, 'quarantine': 1, 'baking': 2, 'disasters': 1, 'comments': 1, 'below': 1, 'claim': 1, 'champion': 1, 'most-failed': 1, 'attempts.': 1, '💪': 1, 'Gooey': 1, 'fudge/brigadeiro': 1, '@cheftejasvichandela': 2, '(': 1, '@allthingschocolates': 3, ')': 2, 'delicious': 1, 'indulgent': 1, 'that’s': 1, 'super': 1, 'easy,': 1, 'goes': 1, 'fudge!': 1, '64%': 2, 'malabar': 1, 'dark': 2, 'chef’s': 1, '33%': 2, 'blended': 1, 'chocolate.': 1, 'Ingredients': 1, '-150ml': 1, 'condensed': 2, '-450g': 1, '(half': 1, 'Malabar': 1, 'half': 1, 'Chef’s': 1, '-100g': 1, 'unsalted': 1, '-big': 1, 'pinch': 2, 'salt.': 1, 'Steps': 1, 'saucepan': 1, 'add': 3, 'chunks': 1, 'milk.': 1, 'sure': 1, 'heat': 1, 'low': 1, 'medium': 3, 'mixing': 1, 'ingredients': 1, 'put': 1, 'saucepan.': 1, '3.': 1, 'Mix': 1, 'constantly': 1, 'does': 1, 'stuck': 1, 'pan.': 1, '4.': 1, 'continue': 1, 'mixing.': 1, '5.': 1, 'When': 2, 'starts': 1, 'bubble': 1, 'up,': 1, 'switch': 1, 'off': 1, 'heat.': 1, '6.': 1, 'Line': 1, 'tin': 1, 'little': 1, 'bit': 1, 'oil': 3, 'butter.': 1, '7.': 1, 'Pour': 1, 'fudge': 1, 'in.': 1, '8.': 1, 'Let': 1, 'sit': 1, 'fridge': 1, 'hours.': 1, '9.': 1, 'Then': 1, 'cut': 1, 'roll': 1, 'truffle': 1, 'balls': 1, 'enjoy!': 1, 'Coorg': 1, 'Pepper': 1, '@pigout_coorgkitchen': 1, '(Dry': 1, 'dish)': 1, 'Serves': 1, '4': 1, 'Ingredients:': 1, '1/2': 1, 'kg': 1, '(curry': 1, 'cut,': 1, 'bone)': 1, 'Onion': 1, 'size': 1, '(sliced)': 1, 'Green': 1, 'chilli': 2, '(slit': 1, 'half)': 1, 'pepper': 1, 'Coarse': 1, 'grind': 1, 'Ginger-': 1, 'Garlic': 1, 'paste': 2, 'Haldi': 1, '1': 4, 'heaped': 1, 'tsp': 1, 'Salt': 1, 'Oil': 1, 'frying': 1, 'Kachampulli': 2, '(Coorg': 1, 'black': 1, 'vinegar)': 1, 'OR': 1, 'Regular': 1, 'vinegar': 2, 'Tamarind': 1, 'Method:': 1, '⁃': 7, 'Pressure': 1, 'mutton': 1, 'cups': 1, 'water,': 1, 'haldi.': 1, 'Till': 1, '3/4th': 1, 'cooked.': 3, 'Heat': 1, 'pan,': 1, 'onions': 1, 'being': 1, 'brown.': 1, 'ginger': 1, 'paste,': 1, 'green': 2, 'fry.': 1, 'Once': 3, 'masala': 1, 'mutton,': 1, 'pepper.': 1, 'flame.': 1, 'begins': 1, 'separate': 1, 'meat,': 1, 'remaining': 1, 'stock': 1, '(water': 1, 'pressure': 1, 'cooker)': 1, 'allow': 1, 'meat': 3, 'fully': 1, 'liquid.': 1, 'soft': 1, 'kachampulli': 1, 'tamarind': 1, 'vinegar.': 1, 'Fry': 1, 'high': 1, 'flame': 1, '2-3minutes,': 1, 'liquid': 1, 'up.': 1, 'squeeze': 1, 'lime.': 1, 'Tip': 1, ':': 1, 'vinegar,': 1, 'it’s': 1, 'recommended': 1, 'least': 1, '24hrs': 1, 'serving,': 1, 'settle': 1, 'bring': 1, 'flavour.': 1}\n"
     ]
    }
   ],
   "source": [
    "# code for 4 2) 2) Prepare a list of all words used in all the scraped posts and calculate the frequency of each word. \n",
    "import re #inbuilt python module for check if a string contains the specified search pattern.\n",
    "# *** making  a list of all the words in scrape data of posts\n",
    "all_word_list=[]\n",
    "for i in post_content:\n",
    "    # itrate over the words in the content\n",
    "    for j in i:\n",
    "        # splitting the words using regular expression on the base of spliters \\n(end of line) and \\s (space)\n",
    "        all_word_list.append(re.split('\\n|\\s',j))\n",
    "# printing the list\n",
    "print(all_word_list)\n",
    "# making the dict for count of the freq\n",
    "dict={}\n",
    "# itrate over the list of word if the word is already in dict inc the count else innitate the count with 1\n",
    "for i in all_word_list:\n",
    "    for j in i: # if present inc the count\n",
    "        if j in dict:\n",
    "            dict[j]+=1\n",
    "        else:# else initate the count by 1\n",
    "            dict[j]=1\n",
    "# printing the dict having the word and their count\n",
    "print()\n",
    "print(\"The dict containing words and their freq:\")\n",
    "print()\n",
    "print(dict)"
   ]
  },
  {
   "cell_type": "markdown",
   "metadata": {},
   "source": [
    "# 4.3) Code for making a csv file"
   ]
  },
  {
   "cell_type": "code",
   "execution_count": 64,
   "metadata": {},
   "outputs": [],
   "source": [
    "#code for 4) 3) Create a csv file with two columns : the word and its frequency   \n",
    "# made a list of words and their freq\n",
    "a=[i for i in dict.keys()]\n",
    "b=[i for i in dict.values()]\n",
    "# making a dataframe using pandas havnig columns name words and freq\n",
    "d={\"Words\":a,\"Freq\":b}\n",
    "df=pd.DataFrame(d)\n",
    "# made a csv file using the DF\n",
    "df.to_csv('Hastags_Prolem.csv',index=False)# file saved in new folder (Jupyter wale)"
   ]
  },
  {
   "cell_type": "markdown",
   "metadata": {},
   "source": [
    "# 4.4) code for find the top 5  hastages which were used most  "
   ]
  },
  {
   "cell_type": "code",
   "execution_count": 65,
   "metadata": {},
   "outputs": [
    {
     "name": "stdout",
     "output_type": "stream",
     "text": [
      "        Words  Freq\n",
      " #dilsefoodie    10\n",
      "       #FWBNC     4\n",
      "        #food     3\n",
      "      #WeCook     3\n",
      "      #odisha     2\n"
     ]
    }
   ],
   "source": [
    "# code for 4) 4) Now, find the hashtags that were most popular among these bloggers\n",
    "import pandas as pd #   python library for data processing, CSV file I/O\n",
    "# reading the csv file having the words and freq\n",
    "Hastages=pd.read_csv('Hastags_Prolem.csv')\n",
    "df=Hastages\n",
    "# extracting the words which start from '#' ( to pick the hastags) \n",
    "df=df[(df['Words'].str.get(0)==\"#\")]\n",
    "# sorting the freq to pick the index of top 5 used hastags \n",
    "top_5=(df['Freq']).sort_values(ascending=False)[0:5]\n",
    "# index of top 5 used hastags\n",
    "top_5_index=(top_5.index)\n",
    "# new df having these top 5 hastags only\n",
    "new_df=df.loc[top_5_index]\n",
    "new_df.reset_index(drop=True)\n",
    "# printing the top 5 hastags and their freq\n",
    "print(new_df.to_string(index=False,))\n"
   ]
  },
  {
   "cell_type": "markdown",
   "metadata": {},
   "source": [
    "# 4.5) Code for  Plot a Pie Chart of the top 5 hashtags obtained and the number of times they were used \n"
   ]
  },
  {
   "cell_type": "code",
   "execution_count": 66,
   "metadata": {},
   "outputs": [
    {
     "data": {
      "image/png": "[encoded data removed]",
      "text/plain": [
       "<Figure size 432x288 with 1 Axes>"
      ]
     },
     "metadata": {},
     "output_type": "display_data"
    }
   ],
   "source": [
    "# Code for 4) 5) Plot a Pie Chart of the top 5 hashtags obtained and the number of times they were used \n",
    "# by these bloggers in the scraped posts.\n",
    "import matplotlib.pyplot as plt# python library form plotting graphs\n",
    "# making  a list of top 5 handles and their freq\n",
    "Words=(new_df.Words.to_string(index=False)).split('\\n')\n",
    "Freq=(new_df.Freq.to_string(index=False)).split('\\n')\n",
    "# lets plot the pie chart\n",
    "# to explode the chart\n",
    "e=[0.1 for i in range(5)]\n",
    "# equal the axis if pie chart\n",
    "plt.axis('equal')\n",
    "# plotting the pie chart having the percentage of cuisines served\n",
    "p, tx, autotexts=plt.pie(Freq,labels=Words,explode=e,autopct='%.2f%%',shadow=True)\n",
    "# printing the freq in the section of the respective hastag\n",
    "for i, a in enumerate(autotexts):\n",
    "    a.set_text(\"{}\".format(Freq[i]))\n",
    "plt.show()# show the pie chart"
   ]
  },
  {
   "cell_type": "markdown",
   "metadata": {},
   "source": [
    "# Ques 6) You need to also calculate average followers : likes ratio for the obtained handles.\n",
    "Followers : Likes ratio is calculated as follows:                                                                          \n",
    "                                                                                                                                                    \n",
    "    1) Find out the likes of the top 10 posts of the 5 handles obtained earlier.                                                                          \n",
    "    2) Calculate the average likes for a handle.                                                                          \n",
    "    3) Divide the average likes obtained from the number of followers of the handle to get the average followers:like ratio of each handle.                                                                            \n",
    "    4)Create a bar graph to depict the above obtained information.\n"
   ]
  },
  {
   "cell_type": "markdown",
   "metadata": {},
   "source": [
    "#  6.1) Code for Find out the likes of the top 10 posts of the 5 handles obtained earlier. "
   ]
  },
  {
   "cell_type": "code",
   "execution_count": 22,
   "metadata": {},
   "outputs": [
    {
     "name": "stdout",
     "output_type": "stream",
     "text": [
      "No of likes on top 10 posts(resp) of blogger foodnetwork is: [6921, 8706, 7364, 6961, 4541, 7458, 11797, 9355, 10787, 10880]\n",
      "\n",
      "No of likes on top 10 posts(resp) of blogger foodgod is: [31371, 6132, 30671, 13603, 59733, 30018, 21782, 78724, 24819, 26921]\n",
      "\n",
      "No of likes on top 10 posts(resp) of blogger foodandwine is: [7046, 4750, 6178, 7874, 13996, 18707, 21812, 11252, 10363, 9133]\n",
      "\n",
      "No of likes on top 10 posts(resp) of blogger dilsefoodie is: [6245, 7916, 5673, 11659, 6803, 9146, 7290, 7580, 3646, 14756]\n",
      "\n",
      "No of likes on top 10 posts(resp) of blogger foodtalkindia is: [487, 991, 494, 577, 675, 129, 1646, 237, 181, 448]\n",
      "\n"
     ]
    }
   ],
   "source": [
    "# code for 6 1) Find out the likes of the top 10 posts of the 5 handles obtained earlier. \n",
    "\n",
    "# take the top_5_handles from 1 1)\n",
    "\n",
    "top_5_handles=['foodnetwork', 'foodgod', 'foodandwine', 'dilsefoodie', 'foodtalkindia']\n",
    "\n",
    "\n",
    "\n",
    "from selenium import webdriver #The selenium.webdriver module provides all the WebDriver implementationsm,This allow us to control browser with our code\n",
    "from selenium.webdriver.support.ui import WebDriverWait# files for providing waits\n",
    "from selenium.webdriver.support import expected_conditions as EC# to provide the explicit wait (conditon)\n",
    "from selenium.webdriver.common.by import By\n",
    "from selenium.webdriver.common.action_chains import ActionChains#ActionChains are a way to automate low level interactions such as mouse movements, mouse button actions, key press\n",
    "from selenium.webdriver.common.keys import Keys# This Keys class provide keys in the keyboard\n",
    "import time# Importing the time \n",
    "from selenium.common.exceptions import NoSuchElementException# import nosuchelementexception module\n",
    "from datetime import datetime\n",
    "from selenium import webdriver #The selenium.webdriver module provides all the WebDriver implementationsm,This allow us to control browser with our code\n",
    "from selenium.webdriver.support.ui import WebDriverWait# files for providing waits\n",
    "from selenium.webdriver.support import expected_conditions as EC# to provide the explicit wait (conditon)\n",
    "from selenium.webdriver.common.by import By\n",
    "from selenium.webdriver.common.action_chains import ActionChains#ActionChains are a way to automate low level interactions such as mouse movements, mouse button actions, key press\n",
    "from selenium.webdriver.common.keys import Keys# This Keys class provide keys in the keyboard\n",
    "import time# Importing the time \n",
    "from selenium.common.exceptions import NoSuchElementException# import nosuchelementexception module\n",
    "from datetime import datetime\n",
    "\n",
    "def Like_on_10_post(handle_name):\n",
    "    #get the instagram handle of the dilsefoodie using the handlename \n",
    "    wait = WebDriverWait(driver,10)\n",
    "    i='https://www.instagram.com/'+ handle_name\n",
    "    driver.get(i)\n",
    "    # wait for some time to load the page\n",
    "    time.sleep(3)\n",
    "    # initilize actionChain to automate low level interactions such as mouse movements, mouse button actions, key press,\n",
    "    actionChain=webdriver.ActionChains(driver)#action chain object\n",
    "    # scroll the page using the actionChain for uploading the posts \n",
    "    for i in range(100):\n",
    "        actionChain.key_down(Keys.SPACE).key_up(Keys.SPACE).perform()# scrollung the page of dilsefoodie\n",
    "   # going on the top of the page to start from the first post\n",
    "    driver.find_element_by_tag_name('body').send_keys(Keys.CONTROL + Keys.HOME)\n",
    "    time.sleep(3)\n",
    "     #made a list to store the href of every post the href are in a tag of div having class = \"v1Nh3 kIKUG  _bz0w\"\n",
    "    href = []\n",
    "    for i in driver.find_elements_by_xpath('//div[@class=\"v1Nh3 kIKUG  _bz0w\"]/a'):\n",
    "        # appending the url of post in the list href\n",
    "        href.append(i.get_attribute('href'))\n",
    "        \n",
    "    # a list to append the no of like on the top ten posts\n",
    "    Likes=[]\n",
    "    # itrate on the top 10 posts\n",
    "    for i in range(10):\n",
    "        \n",
    "        #itrate over the list one by one and take the info of liked or not of the post\n",
    "        driver.get(href[i])\n",
    "        # locate the like information\n",
    "        try:\n",
    "            # getting the like info \n",
    "            # ** here in some post their is no of likes shown while on some their is no of viwes \n",
    "            # in case if their is no of views then click on that and a pop of no of like will be visible This is handles \n",
    "            # in try section while if no of likes visible directly is handled in except section\n",
    "            Like_info_ = driver.find_element_by_xpath('//section[@class=\"EDfFK ygqzn\"]/div/span').click()\n",
    "            Like_info=driver.find_element_by_css_selector('div.vJRqr span').text\n",
    "            # convert the string value of likes in integer\n",
    "            Likes.append(int(Like_info.replace(',','')))\n",
    "        except NoSuchElementException:\n",
    "            Like_info_=driver.find_element_by_xpath('//section[@class=\"EDfFK ygqzn\"]/div/div/button/span').text\n",
    "            # convert the string value of likes in integer\n",
    "            Likes.append(int(Like_info_.replace(',','')))\n",
    "        \n",
    "      \n",
    "     # returning the likes       \n",
    "    return Likes\n",
    "\n",
    "def login(driver):\n",
    "    \n",
    "    # go to instagram login page using .get request\n",
    "    driver.get('https://www.instagram.com/')\n",
    "    # wait for some time for loading page\n",
    "    time.sleep(2)\n",
    "    # passing the username in the the text-box for username(This text-box has name->username so I'm using this to locate the text-box)\n",
    "    username=driver.find_element_by_name('username').send_keys('sample_username')# pass the user handle name or email or mobile no(for that i used .send_keys)\n",
    "    # passing the password in the the text-box for password(This text-box has name->password so I'm using this to locate the text-box)\n",
    "    password=driver.find_element_by_name('password').send_keys('sample_password')# pass the password(for that i used .send_keys)\n",
    "    # now need to click on login button to login and this is of type submit so used .submit to click over it\n",
    "    Login_button=driver.find_element_by_class_name('sqdOP.L3NKy.y3zKF').submit()#class name for login button was  \"sqdOP.L3NKy.y3zKF\" so i used that\n",
    "    # wait for some time to completely load the page here i used implicit wait I have given Implicit Wait as 5 seconds, #\n",
    "    #which implies the maximum wait time is 5 seconds for the particular element to load or to arrive at the output\n",
    "    # means agr phle output aagya tho wait nhi krega yeh\n",
    "    \n",
    "    driver.implicitly_wait(5)\n",
    "    # as You login their comes a pop up saying whether you want to save the details or not Here we are \n",
    "    # handling this by clicking on not now button\n",
    "    try:# if this pop up comes click on not now\n",
    "        save_login_info=driver.find_element_by_xpath('//div[@class=\"cmbtv\"]/button').click()\n",
    "    except NoSuchElementException:# if no such pop-up open then pass (I'm doing this because some time this pop up doesnt came)\n",
    "        pass\n",
    "    # wait for some time to load the page \n",
    "    driver.implicitly_wait(10)\n",
    "    # ek notification aa rhi hai as you login :-\"Turn on Notifications Know right away when people follow you or like and comment on your photos.\"\n",
    "    # thi Extra_notification_handle is to handle that extra notification\n",
    "    Extra_notification_handle=driver.find_element_by_class_name('aOOlW.HoLwm ')#aOOlW   HoLwm is the class name for cancle button of notification \n",
    "    Extra_notification_handle.click()# bacuse the cancle button is not of submit type so I had to click\n",
    "    time.sleep(2)\n",
    "            \n",
    "\n",
    "\n",
    "# using geckodriver(FireFox web driver name) to remote the window please use the path for geckodriver as per your system\n",
    "# here geckodriver is within anaconda so I write it straight forward\n",
    "driver=webdriver.Firefox(executable_path='geckodriver')\n",
    "# calling login function\n",
    "login(driver)\n",
    "# making a list of likes on the top  post on every handle\n",
    "post_Likes=[]\n",
    "for i in top_5_handles:\n",
    "    a=(Like_on_10_post(i))\n",
    "    # printing the no of likes on top  posts\n",
    "    print(\"No of likes on top 10 posts(resp) of blogger\",i,\"is:\",a)\n",
    "    print()\n",
    "    \n",
    "    \n",
    "    # list of likes on top  post on every handle\n",
    "    post_Likes.append(a)"
   ]
  },
  {
   "cell_type": "markdown",
   "metadata": {},
   "source": [
    "# 6) Code for Calculate the average likes for a handle"
   ]
  },
  {
   "cell_type": "code",
   "execution_count": 71,
   "metadata": {},
   "outputs": [
    {
     "name": "stdout",
     "output_type": "stream",
     "text": [
      "Average Likes for handle foodnetwork is: 8477.0\n",
      "Average Likes for handle foodgod is: 40854.4\n",
      "Average Likes for handle foodandwine is: 51965.5\n",
      "Average Likes for handle dilsefoodie is: 60036.9\n",
      "Average Likes for handle foodtalkindia is: 60623.4\n"
     ]
    }
   ],
   "source": [
    "# code for 6 2) Calculate the average likes for a handle.  \n",
    "# a list of average likes:\n",
    "average_likes_list=[] \n",
    "total_likes=0\n",
    "\n",
    "for i in range(5):\n",
    "    # itrate on no of likes on top  post of an insta handle and find their total likes\n",
    "    for j in post_Likes[i]:\n",
    "        total_likes+=j\n",
    "    # average likes is total likes/10\n",
    "    average_likes=total_likes/10\n",
    "    average_likes_list.append(average_likes)\n",
    "    #  printing the aveerage likes\n",
    "    print(\"Average Likes for handle\",top_5_handles[i],\"is:\",average_likes)"
   ]
  },
  {
   "cell_type": "markdown",
   "metadata": {},
   "source": [
    "# 6.3) Code for ratio of average followers: likes"
   ]
  },
  {
   "cell_type": "code",
   "execution_count": 57,
   "metadata": {},
   "outputs": [
    {
     "name": "stdout",
     "output_type": "stream",
     "text": [
      "The ratio of Average Followers : Likes for handle foodnetwork is: 1215.320160434116\n",
      "The ratio of Average Followers : Likes for handle foodgod is: 88.96356328816479\n",
      "The ratio of Average Followers : Likes for handle foodandwine is: 66.05834640290192\n",
      "The ratio of Average Followers : Likes for handle dilsefoodie is: 7.427931821929513\n",
      "The ratio of Average Followers : Likes for handle foodtalkindia is: 4.872392508503317\n"
     ]
    }
   ],
   "source": [
    "# code for 6 3) Divide the average likes obtained from the number of followers of the handle to get\n",
    "# the average followers:like ratio of each handle.\n",
    "\n",
    "# the List for avergae like of top 5 handles -->average_likes_list\n",
    "# the List for no of followers of top 5 handles    --> top_5_handles_followers\n",
    "# no of followers for top 5 handles taken from probem 1\n",
    "top_5_handles_followers=[10302269, 3634553, 3432755, 445950, 295381]\n",
    "\n",
    "# made a list of the ratio of avg followers vs likes\n",
    "ratio=[]\n",
    "# cal the ratio \n",
    "for i,j in zip(average_likes_list,top_5_handles_followers):\n",
    "    ratio.append(j/i)\n",
    "    #printing the ratio\n",
    "for i in range(5):\n",
    "    print(\"The ratio of Average Followers : Likes for handle\",top_5_handles[i],\"is:\",ratio[i])"
   ]
  },
  {
   "cell_type": "markdown",
   "metadata": {},
   "source": [
    "# 6.4)  Code for Create a bar graph to depict the above obtained information.\n"
   ]
  },
  {
   "cell_type": "code",
   "execution_count": 58,
   "metadata": {},
   "outputs": [
    {
     "data": {
      "image/png": "[encoded data removed]",
      "text/plain": [
       "<Figure size 432x288 with 1 Axes>"
      ]
     },
     "metadata": {
      "needs_background": "light"
     },
     "output_type": "display_data"
    }
   ],
   "source": [
    "# code for 6 4) Create a bar graph to depict the above obtained information.\n",
    "\n",
    "import matplotlib.pyplot as plt # python library form plotting graphs\n",
    "# plotting the bar graph\n",
    "plt.bar(top_5_handles,ratio, color = 'b',edgecolor='black',width=0.5)\n",
    "# providing the x-label\n",
    "plt.xlabel('Top 5 Handles Names')\n",
    "# y-label\n",
    "plt.ylabel('ratio of avg followers vs likes')\n",
    "# title of the graph\n",
    "plt.title('Handles vs ratio')\n",
    "# priting the value on the top of the bars using enumerate()...enumerate() method adds a counter to an iterable and returns it in a form of enumerate object. \n",
    "for index, value in enumerate(ratio):\n",
    "    \n",
    "    plt.text( index, value,\"{:.2f}\".format(value),ha='center')\n",
    "# show the graph\n",
    "plt.show()\n"
   ]
  }
 ],
 "metadata": {
  "kernelspec": {
   "display_name": "Python 3",
   "language": "python",
   "name": "python3"
  },
  "language_info": {
   "codemirror_mode": {
    "name": "ipython",
    "version": 3
   },
   "file_extension": ".py",
   "mimetype": "text/x-python",
   "name": "python",
   "nbconvert_exporter": "python",
   "pygments_lexer": "ipython3",
   "version": "3.7.4"
  }
 },
 "nbformat": 4,
 "nbformat_minor": 2
}
